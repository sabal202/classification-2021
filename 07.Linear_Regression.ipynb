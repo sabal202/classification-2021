{
 "cells": [
  {
   "cell_type": "markdown",
   "metadata": {
    "slideshow": {
     "slide_type": "fragment"
    }
   },
   "source": [
    "# Обучение с применением учителя (supervised learning)\n",
    "### Основные определения\n",
    "\n",
    "$X$ &ndash; множество объектов <br/>\n",
    "$Y$ &ndash; множество ответов <br/>\n",
    "$y^*: X \\rightarrow Y$ &ndash; целевая функция <br/>\n",
    "\n",
    "Пусть для набора объектов $X$ задан набор отображений $f_1, \\dots, f_n: X \\rightarrow D_{f_i}$ . Будем называть их признаками, значения $f_i$ - результат измерения некоторой характеристики объекта $x  \\in X$ .\n",
    "* если $D_{f_i}$ - конечное множество, то $f_i$ - *номинальный* признак\n",
    "* если $D_{f_i} = \\{0, 1\\}$ , то $f_i$ - *бинарный* признак \n",
    "* если $D_{f_i} = \\mathbb R$ , то $f_i$ - *количественный* признак\n",
    "\n",
    "Таким образом, кажому объекту $x \\in X$ можно сопоставить $(f_1, \\dots, f_n)$ который называется признаковым описанием объекта $x$."
   ]
  },
  {
   "cell_type": "markdown",
   "metadata": {},
   "source": [
    "### Постановка задачи\n",
    "\n",
    "Значения целевой функции известны на конечном множестве объектов: <br/> $\\{x_1, \\dots, x_l\\} \\subset X$\n",
    "\n",
    "$T^l = \\{(x_i, y_i)\\}^l_{i=1}$ &ndash; обучающая выборка\n",
    "\n",
    "По выборке $T^l$ нужно восстановить зависимость $y^*$, то есть построить функцию <br/> $a: X \\rightarrow Y$,<br/>\n",
    "которая достаточно хорошо приближала бы функцию $y^*$ на всём множестве $X$."
   ]
  },
  {
   "cell_type": "markdown",
   "metadata": {},
   "source": [
    "### Типы задач\n",
    "\n",
    "##### В зависимости от множества $Y$ задачу можно разделить на следующие типы:\n",
    "Задача классификации\n",
    ">$Y=\\{1,\\dots,M\\}$\n",
    "\n",
    "Восстановления регрессии\n",
    "> $Y=\\mathbb R$ \n",
    "\n",
    "##### В зависимости от известных данных и области применения:\n",
    "\n",
    "Transductive learning \n",
    "> если все объекты $X$ известны во время обучения.\n",
    "\n",
    "Semi-supervised learning \n",
    "> если во время обучения помимо $T^l$ дано ещё большое количество объекто $S^u = \\{x_{l+1}, \\dots, x_{l+u}\\} \\subset X$ для которых неизвестно значение функции $y^*$. Обычно $l \\ll u$."
   ]
  },
  {
   "cell_type": "markdown",
   "metadata": {},
   "source": [
    "### Функционал качества\n",
    "\n",
    "Пусть $a$ функция (\"алгоритм\"), которую мы нашли в процессе решения задачи. Пусть функция задана функция $\\mathbb L(a,x_i)$, характеризующая величину ошибки функции $a$ на объекте $x_i$: $a(x_i)$. Если ответ алгоритма в точке $x_i$ корректен, тогда $\\mathbb L(a,x_i)=0$\n",
    "\n",
    "Определим *функционал качества* на тренировочном множестве $X$ как среднее значение функции потерь на элементах этого множества:<br/> \n",
    "$Q(a, X^l)=\\frac{1}{l}\\sum^l_{i=1}\\mathbb L(a,x_i)$\n",
    "\n",
    "Примеры функций потерь:\n",
    "* $Q(a, X^l)=\\frac{1}{l}\\sum^l_{i=1}[a(x) \\neq y^*(x)]$ &mdash; индикатор ошибки\n",
    "* $Q(a, X^l)=\\frac{1}{l}\\sum^l_{i=1}|a(x) - y^*(x)|$ &mdash; средняя ошибка\n",
    "* $Q(a, X^l)=\\frac{1}{l}\\sum^l_{i=1}(a(x) - y^*(x))^2$ &mdash; серднеквадратичная ошибка"
   ]
  },
  {
   "cell_type": "markdown",
   "metadata": {},
   "source": [
    "### Модель алгоритмов обучения\n",
    "\n",
    "Если мы ищем алгоритм $a(x)$ из некоторого параметрического семейства $A = \\{a(x, \\theta) | \\theta \\in \\Theta\\}$, $a(x) \\in A$, то $A$ называется моделью алгоритмов, а $\\Theta$ называется пространством параметров. \n",
    "\n",
    "Соотве нам нужно минимизировать функционал качества по $\\theta$: <br/>\n",
    "\n",
    "$$a(x) = \\arg \\min_{\\theta \\in \\Theta}  Q(a(x, \\theta), X^l)$$"
   ]
  },
  {
   "cell_type": "markdown",
   "metadata": {},
   "source": [
    "# Примеры"
   ]
  },
  {
   "cell_type": "code",
   "execution_count": 3,
   "metadata": {
    "scrolled": true
   },
   "outputs": [],
   "source": [
    "import sklearn.datasets as ds\n",
    "import pandas as pd\n",
    "import numpy as np"
   ]
  },
  {
   "cell_type": "markdown",
   "metadata": {},
   "source": [
    " Пример задачи восстановления регрессии - по характеристика квартиры нужно предположить рыночную цену."
   ]
  },
  {
   "cell_type": "code",
   "execution_count": 4,
   "metadata": {
    "scrolled": true
   },
   "outputs": [
    {
     "data": {
      "text/html": [
       "<div>\n",
       "<style scoped>\n",
       "    .dataframe tbody tr th:only-of-type {\n",
       "        vertical-align: middle;\n",
       "    }\n",
       "\n",
       "    .dataframe tbody tr th {\n",
       "        vertical-align: top;\n",
       "    }\n",
       "\n",
       "    .dataframe thead th {\n",
       "        text-align: right;\n",
       "    }\n",
       "</style>\n",
       "<table border=\"1\" class=\"dataframe\">\n",
       "  <thead>\n",
       "    <tr style=\"text-align: right;\">\n",
       "      <th></th>\n",
       "      <th>Unnamed: 0</th>\n",
       "      <th>Комнат</th>\n",
       "      <th>Район города</th>\n",
       "      <th>Адрес</th>\n",
       "      <th>Этаж</th>\n",
       "      <th>Общ</th>\n",
       "      <th>Жил</th>\n",
       "      <th>Кух</th>\n",
       "      <th>М</th>\n",
       "      <th>Тел</th>\n",
       "      <th>Примечания</th>\n",
       "      <th>#Цена</th>\n",
       "    </tr>\n",
       "  </thead>\n",
       "  <tbody>\n",
       "    <tr>\n",
       "      <th>0</th>\n",
       "      <td>1</td>\n",
       "      <td>1</td>\n",
       "      <td>Московский</td>\n",
       "      <td>Пулковское ш.</td>\n",
       "      <td>0/0</td>\n",
       "      <td>35.7</td>\n",
       "      <td>0.0</td>\n",
       "      <td>0.0</td>\n",
       "      <td>NaN</td>\n",
       "      <td>NaN</td>\n",
       "      <td>NaN</td>\n",
       "      <td>3820.0</td>\n",
       "    </tr>\n",
       "    <tr>\n",
       "      <th>1</th>\n",
       "      <td>2</td>\n",
       "      <td>1</td>\n",
       "      <td>Московский</td>\n",
       "      <td>Пулковское ш.</td>\n",
       "      <td>0/0</td>\n",
       "      <td>27.5</td>\n",
       "      <td>0.0</td>\n",
       "      <td>0.0</td>\n",
       "      <td>NaN</td>\n",
       "      <td>NaN</td>\n",
       "      <td>NaN</td>\n",
       "      <td>3080.0</td>\n",
       "    </tr>\n",
       "    <tr>\n",
       "      <th>2</th>\n",
       "      <td>3</td>\n",
       "      <td>1</td>\n",
       "      <td>Московский</td>\n",
       "      <td>Московское ш.</td>\n",
       "      <td>0/0</td>\n",
       "      <td>35.5</td>\n",
       "      <td>0.0</td>\n",
       "      <td>0.0</td>\n",
       "      <td>NaN</td>\n",
       "      <td>NaN</td>\n",
       "      <td>NaN</td>\n",
       "      <td>3470.0</td>\n",
       "    </tr>\n",
       "    <tr>\n",
       "      <th>3</th>\n",
       "      <td>4</td>\n",
       "      <td>1</td>\n",
       "      <td>Московский</td>\n",
       "      <td>Московское ш.</td>\n",
       "      <td>0/0</td>\n",
       "      <td>33.5</td>\n",
       "      <td>0.0</td>\n",
       "      <td>0.0</td>\n",
       "      <td>NaN</td>\n",
       "      <td>NaN</td>\n",
       "      <td>NaN</td>\n",
       "      <td>2989.0</td>\n",
       "    </tr>\n",
       "    <tr>\n",
       "      <th>4</th>\n",
       "      <td>5</td>\n",
       "      <td>1</td>\n",
       "      <td>Московский</td>\n",
       "      <td>Московское ш.</td>\n",
       "      <td>0/0</td>\n",
       "      <td>24.2</td>\n",
       "      <td>0.0</td>\n",
       "      <td>0.0</td>\n",
       "      <td>NaN</td>\n",
       "      <td>NaN</td>\n",
       "      <td>NaN</td>\n",
       "      <td>2261.0</td>\n",
       "    </tr>\n",
       "  </tbody>\n",
       "</table>\n",
       "</div>"
      ],
      "text/plain": [
       "   Unnamed: 0  Комнат  Район города          Адрес  Этаж   Общ   Жил   Кух   \\\n",
       "0           1        1    Московский  Пулковское ш.   0/0  35.7   0.0   0.0   \n",
       "1           2        1    Московский  Пулковское ш.   0/0  27.5   0.0   0.0   \n",
       "2           3        1    Московский  Московское ш.   0/0  35.5   0.0   0.0   \n",
       "3           4        1    Московский  Московское ш.   0/0  33.5   0.0   0.0   \n",
       "4           5        1    Московский  Московское ш.   0/0  24.2   0.0   0.0   \n",
       "\n",
       "    М  Тел  Примечания    #Цена  \n",
       "0  NaN  NaN         NaN  3820.0  \n",
       "1  NaN  NaN         NaN  3080.0  \n",
       "2  NaN  NaN         NaN  3470.0  \n",
       "3  NaN  NaN         NaN  2989.0  \n",
       "4  NaN  NaN         NaN  2261.0  "
      ]
     },
     "execution_count": 4,
     "metadata": {},
     "output_type": "execute_result"
    }
   ],
   "source": [
    "#df = pd.read_csv('data/real_estate.csv')\n",
    "df = pd.read_csv('http://pastebin.com/raw.php?i=RcHeuYJ4')\n",
    "df.head(5)"
   ]
  },
  {
   "cell_type": "markdown",
   "metadata": {},
   "source": [
    "Пример набора данных для задачи semi-supervised learning (\"с чатсичным привлечением учителя\"). Дано большое количество непомеченных данных и много меньше почеченных. Информация о непомеченных данных помогает восстановить некоторые характеристики."
   ]
  },
  {
   "cell_type": "code",
   "execution_count": 5,
   "metadata": {},
   "outputs": [
    {
     "data": {
      "image/png": "[encoded data removed]",
      "text/plain": [
       "<Figure size 432x288 with 1 Axes>"
      ]
     },
     "metadata": {},
     "output_type": "display_data"
    }
   ],
   "source": [
    "%matplotlib inline\n",
    "\n",
    "import matplotlib.pyplot as plt\n",
    "import seaborn as sns\n",
    "sns.set()\n",
    "\n",
    "xy, c = ds.make_moons(200, False, 0.09)\n",
    "\n",
    "ind0 = np.arange(0, 100)\n",
    "ind1 = np.arange(100, 200)\n",
    "np.random.shuffle(ind0)\n",
    "np.random.shuffle(ind1)\n",
    "\n",
    "plt.plot(xy[ind0[:10], 0], xy[ind0[:10], 1], 'r^')\n",
    "\n",
    "plt.plot(xy[ind1[:10], 0], xy[ind1[:10], 1], 'r*')\n",
    "\n",
    "plt.plot(xy[ind0[10:], 0], xy[ind0[10:], 1], 'b.')\n",
    "plt.plot(xy[ind1[10:], 0], xy[ind1[10:], 1], 'b.')\n",
    "plt.show()"
   ]
  },
  {
   "cell_type": "markdown",
   "metadata": {},
   "source": [
    "Классический набор данных для задачи классификации - по характеристиками цветка\n",
    "- длина наружной доли околоцветника (sepal length)\n",
    "- ширина наружной доли околоцветника (sepal width)\n",
    "- длина внутренней доли околоцветника (petal length)\n",
    "- ширина внутренней доли околоцветника (petal width)\n",
    "\n",
    "нужно восстановить к какому виду Ириса пренадлежит конктретный экземпляр - \n",
    "\n",
    "- Ирис щетинистый (Iris setosa)\n",
    "- Ирис виргинский (Iris virginica)\n",
    "- Ирис разноцветный (Iris versicolor). \n",
    "\n"
   ]
  },
  {
   "cell_type": "code",
   "execution_count": 6,
   "metadata": {},
   "outputs": [
    {
     "data": {
      "text/html": [
       "<div>\n",
       "<style scoped>\n",
       "    .dataframe tbody tr th:only-of-type {\n",
       "        vertical-align: middle;\n",
       "    }\n",
       "\n",
       "    .dataframe tbody tr th {\n",
       "        vertical-align: top;\n",
       "    }\n",
       "\n",
       "    .dataframe thead th {\n",
       "        text-align: right;\n",
       "    }\n",
       "</style>\n",
       "<table border=\"1\" class=\"dataframe\">\n",
       "  <thead>\n",
       "    <tr style=\"text-align: right;\">\n",
       "      <th></th>\n",
       "      <th>sepal length (cm)</th>\n",
       "      <th>sepal width (cm)</th>\n",
       "      <th>petal length (cm)</th>\n",
       "      <th>petal width (cm)</th>\n",
       "      <th>Class</th>\n",
       "    </tr>\n",
       "  </thead>\n",
       "  <tbody>\n",
       "    <tr>\n",
       "      <th>0</th>\n",
       "      <td>5.1</td>\n",
       "      <td>3.5</td>\n",
       "      <td>1.4</td>\n",
       "      <td>0.2</td>\n",
       "      <td>0</td>\n",
       "    </tr>\n",
       "    <tr>\n",
       "      <th>1</th>\n",
       "      <td>4.9</td>\n",
       "      <td>3.0</td>\n",
       "      <td>1.4</td>\n",
       "      <td>0.2</td>\n",
       "      <td>0</td>\n",
       "    </tr>\n",
       "    <tr>\n",
       "      <th>2</th>\n",
       "      <td>4.7</td>\n",
       "      <td>3.2</td>\n",
       "      <td>1.3</td>\n",
       "      <td>0.2</td>\n",
       "      <td>0</td>\n",
       "    </tr>\n",
       "    <tr>\n",
       "      <th>3</th>\n",
       "      <td>4.6</td>\n",
       "      <td>3.1</td>\n",
       "      <td>1.5</td>\n",
       "      <td>0.2</td>\n",
       "      <td>0</td>\n",
       "    </tr>\n",
       "    <tr>\n",
       "      <th>4</th>\n",
       "      <td>5.0</td>\n",
       "      <td>3.6</td>\n",
       "      <td>1.4</td>\n",
       "      <td>0.2</td>\n",
       "      <td>0</td>\n",
       "    </tr>\n",
       "    <tr>\n",
       "      <th>5</th>\n",
       "      <td>5.4</td>\n",
       "      <td>3.9</td>\n",
       "      <td>1.7</td>\n",
       "      <td>0.4</td>\n",
       "      <td>0</td>\n",
       "    </tr>\n",
       "    <tr>\n",
       "      <th>6</th>\n",
       "      <td>4.6</td>\n",
       "      <td>3.4</td>\n",
       "      <td>1.4</td>\n",
       "      <td>0.3</td>\n",
       "      <td>0</td>\n",
       "    </tr>\n",
       "  </tbody>\n",
       "</table>\n",
       "</div>"
      ],
      "text/plain": [
       "   sepal length (cm)  sepal width (cm)  petal length (cm)  petal width (cm)  \\\n",
       "0                5.1               3.5                1.4               0.2   \n",
       "1                4.9               3.0                1.4               0.2   \n",
       "2                4.7               3.2                1.3               0.2   \n",
       "3                4.6               3.1                1.5               0.2   \n",
       "4                5.0               3.6                1.4               0.2   \n",
       "5                5.4               3.9                1.7               0.4   \n",
       "6                4.6               3.4                1.4               0.3   \n",
       "\n",
       "   Class  \n",
       "0      0  \n",
       "1      0  \n",
       "2      0  \n",
       "3      0  \n",
       "4      0  \n",
       "5      0  \n",
       "6      0  "
      ]
     },
     "execution_count": 6,
     "metadata": {},
     "output_type": "execute_result"
    }
   ],
   "source": [
    "data = ds.load_iris()\n",
    "df = pd.DataFrame(data=data['data'], columns=data['feature_names'])\n",
    "df['Class'] = data['target']\n",
    "df.head(7)"
   ]
  },
  {
   "cell_type": "markdown",
   "metadata": {},
   "source": [
    "# Линейная регрессия\n",
    "\n",
    "Будем искать алгоритм $a(x)$ в виде: $$a(x, \\theta_0, \\dots, \\theta_n)=\\theta_0 + \\theta_1  f_1(x) + \\dots + \\theta_n  f_n(x)$$ <br/>\n",
    "Для простоты определим функцию $f_0(x)\\equiv 1$, и будем отождествлять объект $x \\in X$ с вектором $x \\longrightarrow (f_0(x), \\dots, f_n(x)) = (x_0, \\dots, x_n)$\n",
    "\n",
    "Такми образом наш алгоритм будет иметь вид: $a(x)=\\hat{y}=x^T\\theta$ .\n",
    "Пусть дано тренировочное множество $X=\\{x_1, \\dots, x_l\\}$, представим его в виде матрицы:\n",
    "$$X=\\begin{pmatrix} x_{1,0} & \\dots & x_{1, n} \\\\ \\vdots & \\vdots & \\vdots \\\\ x_{l,0} & \\dots & x_{l, n}  \\end{pmatrix}$$  \n",
    "\n",
    "Известные значения в тренировочном множестве можно представить в виде вектора:\n",
    "$$Y^* = \\begin{pmatrix} y^*_{1}\\\\ \\vdots \\\\ y^*_{l}   \\end{pmatrix}$$ \n",
    "\n",
    "Тогда функция потерь примет вид:\n",
    "$$Q(\\theta)= \\frac{1}{l} \\sum_{i=1}^{l}(y^*_i-x_i^T\\theta)^2= \\frac{1}{l}(Y^*-X\\theta)^T(Y^*-X\\theta)$$\n",
    "\n",
    "Продифференцируем по компонентам $\\theta$, получим условие: \n",
    "$$X^T(Y^*-X\\theta)=0$$ \n",
    "Затем:\n",
    "$$X^T Y^*- X^T X \\theta = 0$$ \n",
    "$$\\theta = (X^T X)^{-1} X^T Y^* $$"
   ]
  },
  {
   "cell_type": "markdown",
   "metadata": {},
   "source": [
    "### Пример \n",
    "\n",
    "cгенерируем 300 объектов размерности 1"
   ]
  },
  {
   "cell_type": "code",
   "execution_count": 7,
   "metadata": {
    "scrolled": true
   },
   "outputs": [
    {
     "data": {
      "text/plain": [
       "array([[ 6.65979513],\n",
       "       [26.12196919],\n",
       "       [ 6.20157466],\n",
       "       [27.55832724],\n",
       "       [14.65233566],\n",
       "       [18.35231589],\n",
       "       [22.97723569],\n",
       "       [15.55253964],\n",
       "       [ 8.90401505],\n",
       "       [ 5.63163686]])"
      ]
     },
     "execution_count": 7,
     "metadata": {},
     "output_type": "execute_result"
    }
   ],
   "source": [
    "l, n = 300, 1\n",
    "\n",
    "np.random.seed(5)\n",
    "X = np.random.uniform(low=0.0, high=30.0, size=(l, n))\n",
    "X[:10]"
   ]
  },
  {
   "cell_type": "markdown",
   "metadata": {},
   "source": [
    "Добавим к ним \"искуственные\" единицы, отвечающие за свободныу компоненту"
   ]
  },
  {
   "cell_type": "code",
   "execution_count": 8,
   "metadata": {
    "scrolled": true
   },
   "outputs": [],
   "source": [
    "X = np.hstack((np.ones(shape=(l, 1)), X))"
   ]
  },
  {
   "cell_type": "code",
   "execution_count": 9,
   "metadata": {
    "scrolled": true
   },
   "outputs": [
    {
     "data": {
      "text/plain": [
       "array([[ 1.        ,  6.65979513],\n",
       "       [ 1.        , 26.12196919],\n",
       "       [ 1.        ,  6.20157466],\n",
       "       [ 1.        , 27.55832724],\n",
       "       [ 1.        , 14.65233566],\n",
       "       [ 1.        , 18.35231589],\n",
       "       [ 1.        , 22.97723569],\n",
       "       [ 1.        , 15.55253964],\n",
       "       [ 1.        ,  8.90401505],\n",
       "       [ 1.        ,  5.63163686]])"
      ]
     },
     "execution_count": 9,
     "metadata": {},
     "output_type": "execute_result"
    }
   ],
   "source": [
    "X[:10]"
   ]
  },
  {
   "cell_type": "markdown",
   "metadata": {},
   "source": [
    "Будет считать, что существует зависимость функцией $y = 15.4 + 7.2  x$. Сгенерируем \"ответы\" с добавлением нормально-распреленного шума."
   ]
  },
  {
   "cell_type": "code",
   "execution_count": 10,
   "metadata": {
    "scrolled": true
   },
   "outputs": [
    {
     "data": {
      "text/plain": [
       "array([[ 63.17699227],\n",
       "       [202.20159591],\n",
       "       [ 41.97217131],\n",
       "       [223.75964588],\n",
       "       [105.98552819],\n",
       "       [134.71559959],\n",
       "       [177.0790229 ],\n",
       "       [127.72472414],\n",
       "       [ 79.95968992],\n",
       "       [ 48.31031646]])"
      ]
     },
     "execution_count": 10,
     "metadata": {},
     "output_type": "execute_result"
    }
   ],
   "source": [
    "Y = 15.4 * X[:,0] + 7.2 * X[:,1] + np.random.normal(0., 10., size=l)\n",
    "Y = Y.reshape((-1, 1))\n",
    "Y[:10]"
   ]
  },
  {
   "cell_type": "code",
   "execution_count": 11,
   "metadata": {},
   "outputs": [
    {
     "data": {
      "image/png": "[encoded data removed]",
      "text/plain": [
       "<Figure size 432x288 with 1 Axes>"
      ]
     },
     "metadata": {},
     "output_type": "display_data"
    }
   ],
   "source": [
    "plt.plot(X[:,1], Y, '*')\n",
    "\n",
    "dx = np.linspace(0, 30, 50)\n",
    "dy = 15.4 + 7.2 * dx \n",
    "plt.plot(dx, dy)\n",
    "\n",
    "plt.show()"
   ]
  },
  {
   "cell_type": "markdown",
   "metadata": {},
   "source": [
    "Теперь восстановим наши коэффиценты"
   ]
  },
  {
   "cell_type": "code",
   "execution_count": 12,
   "metadata": {
    "scrolled": true
   },
   "outputs": [],
   "source": [
    "\"\"\"\n",
    "theta = np.dot(np.linalg.pinv(np.dot(X.T, X)), \n",
    "               np.dot(X.T, Y)) \n",
    "\"\"\"\n",
    "\n",
    "\n",
    "theta = np.linalg.inv(X.T @ X) @ X.T @ Y"
   ]
  },
  {
   "cell_type": "code",
   "execution_count": 13,
   "metadata": {},
   "outputs": [
    {
     "data": {
      "text/plain": [
       "array([[15.4246964 ],\n",
       "       [ 7.20311498]])"
      ]
     },
     "execution_count": 13,
     "metadata": {},
     "output_type": "execute_result"
    }
   ],
   "source": [
    "theta"
   ]
  },
  {
   "cell_type": "markdown",
   "metadata": {},
   "source": [
    "### Решение с помощью численного нахождения минимума функционала качества\n",
    "\n",
    "$$X=\\begin{pmatrix} x_{1,0} & \\dots & x_{1, n} \\\\ \\vdots & \\vdots & \\vdots \\\\ x_{l,0} & \\dots & x_{l, n}  \\end{pmatrix}$$  \n",
    "$$Y^* = \\begin{pmatrix} y_{1}^*\\\\ \\vdots \\\\ y_{l}^*   \\end{pmatrix}$$ \n",
    "$$Q(\\theta)=  \\sum_{i=1}^{l}(y_i^*-x_i^T\\theta)^2= \\frac{1}{l}(Y^*-X\\theta)^T(Y^*-X\\theta)$$"
   ]
  },
  {
   "cell_type": "markdown",
   "metadata": {},
   "source": [
    "Найдем частные прозводные по коэффицентам и, соответственно, градиент\n",
    "\n",
    "$$\\frac{\\partial Q}{\\partial \\theta_j} = 2 \\sum_{i=1}^{l}(x_i^T\\theta-y^*_i) x_{i,j} $$\n",
    "$$grad(Q) = 2 (X \\theta-Y^*)^TX $$"
   ]
  },
  {
   "cell_type": "markdown",
   "metadata": {},
   "source": [
    "### Пример\n",
    "\n",
    "Воспользуемся методам нахождения минимума из библиотеки `scipy`"
   ]
  },
  {
   "cell_type": "code",
   "execution_count": 14,
   "metadata": {
    "scrolled": true
   },
   "outputs": [
    {
     "data": {
      "text/plain": [
       "(array([15.4246964 ,  7.20311498]),\n",
       " 28792.667205205376,\n",
       " {'grad': array([[3.01496073e-09, 6.27795771e-09]]),\n",
       "  'task': b'CONVERGENCE: NORM_OF_PROJECTED_GRADIENT_<=_PGTOL',\n",
       "  'funcalls': 11,\n",
       "  'nit': 6,\n",
       "  'warnflag': 0})"
      ]
     },
     "execution_count": 14,
     "metadata": {},
     "output_type": "execute_result"
    }
   ],
   "source": [
    "import scipy as sp\n",
    "\n",
    "def func_to_min(theta):\n",
    "    theta = theta.reshape((-1, 1))\n",
    "    return np.sum((X @ theta - Y) ** 2)    \n",
    "\n",
    "\n",
    "def func_grad(theta):\n",
    "    theta = theta.reshape((-1, 1))\n",
    "    return (X @ theta - Y).T @ X\n",
    "   \n",
    "\n",
    "sp.optimize.fmin_tnc(func_to_min, np.array([1., 1.]), func_grad) \n",
    "sp.optimize.fmin_l_bfgs_b(func_to_min, np.array([1., 1.]), func_grad, approx_grad=False)\n",
    "#help(sp.optimize.fmin_l_bfgs_b)"
   ]
  },
  {
   "cell_type": "markdown",
   "metadata": {},
   "source": [
    "Можно визуализировать функцию потерь и от параметров в трехмерном пространстве"
   ]
  },
  {
   "cell_type": "code",
   "execution_count": 15,
   "metadata": {},
   "outputs": [
    {
     "data": {
      "text/plain": [
       "<mpl_toolkits.mplot3d.art3d.Line3DCollection at 0x7efebca99e48>"
      ]
     },
     "execution_count": 15,
     "metadata": {},
     "output_type": "execute_result"
    },
    {
     "data": {
      "image/png": "[encoded data removed]",
      "text/plain": [
       "<Figure size 432x288 with 1 Axes>"
      ]
     },
     "metadata": {},
     "output_type": "display_data"
    }
   ],
   "source": [
    "from mpl_toolkits.mplot3d import Axes3D\n",
    "fig = plt.figure()\n",
    "ax = Axes3D(fig)\n",
    "\n",
    "dx = np.linspace(-30, 30, 40)\n",
    "dy = np.linspace(-40, 40, 40)\n",
    "dX, dY = np.meshgrid(dx, dy)\n",
    "\n",
    "dZ = np.array([func_to_min(np.array([x, y])) for x, y in zip(dX.ravel(), dY.ravel())])\n",
    "dZ = dZ.reshape((-1, 40))\n",
    "ax.plot3D([15.4], [7.2], func_to_min(np.array([15.4, 7.2])), 'r*')\n",
    "ax.plot_wireframe(dX, dY, dZ)\n"
   ]
  },
  {
   "cell_type": "markdown",
   "metadata": {},
   "source": [
    "# Регуляризация"
   ]
  },
  {
   "cell_type": "markdown",
   "metadata": {},
   "source": [
    "Если матрицы $X^TX$ вырождена, то столбцы матрицы $X$ линейно зависимы. Это фактически означает, что некоторые признаки линейно зависимы друг от друга и их нужно отбросить. Чаще возникакет проблема *мультиколлинеарности*, когда $X^TX$ близка к некоторой матрице неполного ранга, что влечет за собой неустойчивость решения и переобучение. \n",
    "\n",
    "Для решения этой проблемы можно добавить к функционалу $Q$ регуляризатор, штрафующий за большие абсолютные значения компонентов вектора $\\theta$\n",
    "$$Q(\\theta) = (Y^*-X\\theta)^T(Y^*-X\\theta) + \\alpha \\theta^T \\theta$$\n",
    "\n",
    "Параметр $\\alpha$ определяет \"значимость штрафоного слагаемого\".  В таком виде мы можем найти решение аналитически:\n",
    "\n",
    "Продифференцируем по компонентам $\\theta$, получим условие: \n",
    "$$X^T(Y^*-X\\theta) + \\alpha\\theta=0$$ \n",
    "Затем:\n",
    "$$X^T Y^*- X^T X \\theta + \\alpha\\theta= 0$$ \n",
    "$$\\theta = (X^T X + \\alpha I_n)^{-1} X^T Y^* $$"
   ]
  },
  {
   "cell_type": "code",
   "execution_count": 16,
   "metadata": {},
   "outputs": [
    {
     "data": {
      "application/vnd.jupyter.widget-view+json": {
       "model_id": "0bd35236ac6d428c9eb4d01bdbee043c",
       "version_major": 2,
       "version_minor": 0
      },
      "text/plain": [
       "interactive(children=(FloatSlider(value=0.1, description='alpha', max=30.0), Output()), _dom_classes=('widget-…"
      ]
     },
     "metadata": {},
     "output_type": "display_data"
    }
   ],
   "source": [
    "import ipywidgets\n",
    "\n",
    "%matplotlib inline\n",
    "\n",
    "l, n = 6, 1\n",
    "\n",
    "np.random.seed(25)\n",
    "X = np.random.uniform(low=0.0, high=5.0, size=(l, n))\n",
    "X = np.hstack((np.ones((l, 1)),                 \n",
    "               X, \n",
    "               X**2,\n",
    "               X**3,\n",
    "               X**4,\n",
    "               X**5\n",
    "              ))\n",
    "            \n",
    "Y = 15.4 + 7.2 * X[:,1] + np.random.normal(0., 50., size=l)\n",
    "\n",
    "\n",
    "def solve(alpha):\n",
    "    theta = np.linalg.inv(X.T @ X + alpha * np.identity(6)) @ X.T @ Y\n",
    "    plt.plot(X[:,1], Y, '*')\n",
    "\n",
    "    dx = np.linspace(-2, 6, 300)\n",
    "    dy = theta[0] \n",
    "    for i in range(1, 6):\n",
    "        dy += theta[i] * (dx ** i)\n",
    "     \n",
    "    plt.plot(dx, 15.4 + 7.2 * dx)\n",
    "    plt.plot(dx, dy)    \n",
    "    \n",
    "    plt.xlim((-2, 6))\n",
    "    plt.ylim((-100, 100))\n",
    "    \n",
    "    plt.show()\n",
    "    \n",
    "ipywidgets.interactive(solve, alpha=ipywidgets.FloatSlider(min=0., max=30., step=0.1, value=0.1))"
   ]
  },
  {
   "cell_type": "markdown",
   "metadata": {},
   "source": [
    "# Дилемма смещения–дисперсии (Bias–variance tradeoff)\n",
    "\n",
    "Компромисс отклонение-дисперсия -- свойство моделей, когда модели с меньшим отклонением от имеющихся данных имеют более высокую дисперсию, и наоборот. \n",
    "\n",
    "*Смещение (bias)* -- это ошибка, возникающая в результате ошибки  модели (недообучение, underfitting).\n",
    "\n",
    "*Дисперсия (variance)* -- чувствительность к малым отклонениям в тренировочном наборе (переобучение, overfitting).\n",
    "\n",
    "\n",
    "Для примера сгенерируем одномерный набор данных и построим три линейных модели без регуляризации:\n",
    "- не учитывая признак\n",
    "- учитывая признак\n",
    "- добавляем новые признаки - степени от существующего\n"
   ]
  },
  {
   "cell_type": "code",
   "execution_count": 17,
   "metadata": {},
   "outputs": [
    {
     "data": {
      "text/html": [
       "<div>\n",
       "<style scoped>\n",
       "    .dataframe tbody tr th:only-of-type {\n",
       "        vertical-align: middle;\n",
       "    }\n",
       "\n",
       "    .dataframe tbody tr th {\n",
       "        vertical-align: top;\n",
       "    }\n",
       "\n",
       "    .dataframe thead th {\n",
       "        text-align: right;\n",
       "    }\n",
       "</style>\n",
       "<table border=\"1\" class=\"dataframe\">\n",
       "  <thead>\n",
       "    <tr style=\"text-align: right;\">\n",
       "      <th></th>\n",
       "      <th>x0</th>\n",
       "      <th>x1</th>\n",
       "      <th>x2</th>\n",
       "      <th>x3</th>\n",
       "      <th>x4</th>\n",
       "      <th>x5</th>\n",
       "      <th>x6</th>\n",
       "      <th>x7</th>\n",
       "      <th>x8</th>\n",
       "      <th>y</th>\n",
       "    </tr>\n",
       "  </thead>\n",
       "  <tbody>\n",
       "    <tr>\n",
       "      <th>0</th>\n",
       "      <td>1.0</td>\n",
       "      <td>0.000000</td>\n",
       "      <td>0.000000</td>\n",
       "      <td>0.000000</td>\n",
       "      <td>0.000000</td>\n",
       "      <td>0.000000</td>\n",
       "      <td>0.000000</td>\n",
       "      <td>0.000000e+00</td>\n",
       "      <td>0.000000e+00</td>\n",
       "      <td>7.305914</td>\n",
       "    </tr>\n",
       "    <tr>\n",
       "      <th>1</th>\n",
       "      <td>1.0</td>\n",
       "      <td>0.111111</td>\n",
       "      <td>0.012346</td>\n",
       "      <td>0.001372</td>\n",
       "      <td>0.000152</td>\n",
       "      <td>0.000017</td>\n",
       "      <td>0.000002</td>\n",
       "      <td>2.090752e-07</td>\n",
       "      <td>2.323057e-08</td>\n",
       "      <td>0.886233</td>\n",
       "    </tr>\n",
       "    <tr>\n",
       "      <th>2</th>\n",
       "      <td>1.0</td>\n",
       "      <td>0.222222</td>\n",
       "      <td>0.049383</td>\n",
       "      <td>0.010974</td>\n",
       "      <td>0.002439</td>\n",
       "      <td>0.000542</td>\n",
       "      <td>0.000120</td>\n",
       "      <td>2.676162e-05</td>\n",
       "      <td>5.947027e-06</td>\n",
       "      <td>4.263870</td>\n",
       "    </tr>\n",
       "    <tr>\n",
       "      <th>3</th>\n",
       "      <td>1.0</td>\n",
       "      <td>0.333333</td>\n",
       "      <td>0.111111</td>\n",
       "      <td>0.037037</td>\n",
       "      <td>0.012346</td>\n",
       "      <td>0.004115</td>\n",
       "      <td>0.001372</td>\n",
       "      <td>4.572474e-04</td>\n",
       "      <td>1.524158e-04</td>\n",
       "      <td>2.174488</td>\n",
       "    </tr>\n",
       "    <tr>\n",
       "      <th>4</th>\n",
       "      <td>1.0</td>\n",
       "      <td>0.444444</td>\n",
       "      <td>0.197531</td>\n",
       "      <td>0.087791</td>\n",
       "      <td>0.039018</td>\n",
       "      <td>0.017342</td>\n",
       "      <td>0.007707</td>\n",
       "      <td>3.425487e-03</td>\n",
       "      <td>1.522439e-03</td>\n",
       "      <td>7.626767</td>\n",
       "    </tr>\n",
       "  </tbody>\n",
       "</table>\n",
       "</div>"
      ],
      "text/plain": [
       "    x0        x1        x2        x3        x4        x5        x6  \\\n",
       "0  1.0  0.000000  0.000000  0.000000  0.000000  0.000000  0.000000   \n",
       "1  1.0  0.111111  0.012346  0.001372  0.000152  0.000017  0.000002   \n",
       "2  1.0  0.222222  0.049383  0.010974  0.002439  0.000542  0.000120   \n",
       "3  1.0  0.333333  0.111111  0.037037  0.012346  0.004115  0.001372   \n",
       "4  1.0  0.444444  0.197531  0.087791  0.039018  0.017342  0.007707   \n",
       "\n",
       "             x7            x8         y  \n",
       "0  0.000000e+00  0.000000e+00  7.305914  \n",
       "1  2.090752e-07  2.323057e-08  0.886233  \n",
       "2  2.676162e-05  5.947027e-06  4.263870  \n",
       "3  4.572474e-04  1.524158e-04  2.174488  \n",
       "4  3.425487e-03  1.522439e-03  7.626767  "
      ]
     },
     "execution_count": 17,
     "metadata": {},
     "output_type": "execute_result"
    }
   ],
   "source": [
    "import pandas as pd\n",
    "l, n = 10, 1\n",
    "\n",
    "df = pd.DataFrame()\n",
    "df['x0'] = np.ones(l)\n",
    "# значения признаков\n",
    "df['x1'] = np.linspace(0, 1, l) \n",
    "\n",
    "#добавляем `полиномиальные` признаки\n",
    "for p in range(2, 9):\n",
    "    df[f'x{p}'] = df['x1'] ** p\n",
    "        \n",
    "#df['x2'] = df['x1'] ** 2\n",
    "#df['x3'] = df['x1'] ** 3\n",
    "#df['x4'] = df['x1'] ** 3\n",
    "\n",
    "def true_func(x):\n",
    "    return 5 * x + 3.0 \n",
    "\n",
    "df['y'] = true_func(df['x1']) + np.random.normal(0.0, 2., size=l)\n",
    "df.head()"
   ]
  },
  {
   "cell_type": "markdown",
   "metadata": {},
   "source": [
    "Отобразим исходные данные"
   ]
  },
  {
   "cell_type": "code",
   "execution_count": 18,
   "metadata": {},
   "outputs": [
    {
     "data": {
      "text/plain": [
       "<matplotlib.collections.PathCollection at 0x7efebca07d68>"
      ]
     },
     "execution_count": 18,
     "metadata": {},
     "output_type": "execute_result"
    },
    {
     "data": {
      "image/png": "[encoded data removed]",
      "text/plain": [
       "<Figure size 432x288 with 1 Axes>"
      ]
     },
     "metadata": {
      "needs_background": "light"
     },
     "output_type": "display_data"
    }
   ],
   "source": [
    "plt.plot(df['x1'], true_func(df['x1']))\n",
    "plt.scatter(df['x1'], df['y'], c='r')"
   ]
  },
  {
   "cell_type": "markdown",
   "metadata": {},
   "source": [
    "Решение"
   ]
  },
  {
   "cell_type": "code",
   "execution_count": 19,
   "metadata": {},
   "outputs": [
    {
     "data": {
      "text/plain": [
       "<matplotlib.legend.Legend at 0x7efebc1b2d68>"
      ]
     },
     "execution_count": 19,
     "metadata": {},
     "output_type": "execute_result"
    },
    {
     "data": {
      "image/png": "[encoded data removed]",
      "text/plain": [
       "<Figure size 432x288 with 1 Axes>"
      ]
     },
     "metadata": {
      "needs_background": "light"
     },
     "output_type": "display_data"
    }
   ],
   "source": [
    "def solve_lr_simple(X, Y):\n",
    "    return np.linalg.pinv(X.T @ X) @ X.T @ Y\n",
    "\n",
    "\n",
    "X0 = df[['x0']]\n",
    "coef0 = solve_lr_simple(X0.values, df['y'].values)\n",
    "\n",
    "X1 = df[['x0', 'x1']]\n",
    "coef1 = solve_lr_simple(X1.values, df['y'].values)\n",
    "\n",
    "X8 = df[['x0', 'x1', 'x2', 'x3', 'x4', 'x5', 'x6', 'x7', 'x8']]\n",
    "coef8 = solve_lr_simple(X8.values, df['y'].values)\n",
    "\n",
    "plt.scatter(df['x1'], df['y'], marker='*', c='black')\n",
    "plt.plot(df['x1'], X0.values @ coef0.T, label='0')\n",
    "plt.plot(df['x1'], X1.values @ coef1.T, label='1')\n",
    "plt.plot(df['x1'], X8.values @ coef8.T, label='8')\n",
    "plt.legend()"
   ]
  },
  {
   "cell_type": "markdown",
   "metadata": {},
   "source": [
    "Видно, что в случае дополнительных 'полиномиальных признаков' мы переобучуемся\n",
    "\n",
    "Математически можно вывести зависимость так:\n",
    "\n",
    "$$y^* = f(x) + \\varepsilon$$\n",
    "\n",
    "$$\\operatorname{E}\\big[(y^* - a(x))^2\\big]  = (f-\\operatorname{E}[a(x)])^2+\\operatorname{Var}[\\varepsilon]+\\operatorname{Var}\\big[a(x)\\big]\\\\[5pt]\n",
    " $$"
   ]
  },
  {
   "cell_type": "code",
   "execution_count": null,
   "metadata": {},
   "outputs": [],
   "source": []
  }
 ],
 "metadata": {
  "kernelspec": {
   "display_name": "Python 3",
   "language": "python",
   "name": "python3"
  },
  "language_info": {
   "codemirror_mode": {
    "name": "ipython",
    "version": 3
   },
   "file_extension": ".py",
   "mimetype": "text/x-python",
   "name": "python",
   "nbconvert_exporter": "python",
   "pygments_lexer": "ipython3",
   "version": "3.6.9"
  }
 },
 "nbformat": 4,
 "nbformat_minor": 4
}
