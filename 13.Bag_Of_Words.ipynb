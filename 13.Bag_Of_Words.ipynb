{
 "cells": [
  {
   "cell_type": "markdown",
   "metadata": {},
   "source": [
    "# Предствление текстовых документов в векторной форме\n",
    "\n",
    "Пусть есть коллекция документов $D$. Будем рассматривать модель *bag-of-words* (мешок слов), то есть каждый документ состоит из какого-то набора слов (терма) без учета их позиций внутри документа. \n",
    "\n",
    "Рассмотрим коллекцию документов:"
   ]
  },
  {
   "cell_type": "code",
   "execution_count": 1,
   "metadata": {
    "collapsed": true,
    "jupyter": {
     "outputs_hidden": true
    }
   },
   "outputs": [],
   "source": [
    "docs = ['человек лев орел черепаха человек', \n",
    "        'лев вол орел',\n",
    "        'лев черепаха лев кошка',\n",
    "        'жучка кошка мышка',\n",
    "        'лев орел грифон']"
   ]
  },
  {
   "cell_type": "markdown",
   "metadata": {},
   "source": [
    "Посчитаем сколько каждое слово встретилось во всей коллекции и сколько каждом документе:"
   ]
  },
  {
   "cell_type": "code",
   "execution_count": 2,
   "metadata": {},
   "outputs": [
    {
     "data": {
      "text/html": [
       "<div>\n",
       "<style>\n",
       "    .dataframe thead tr:only-child th {\n",
       "        text-align: right;\n",
       "    }\n",
       "\n",
       "    .dataframe thead th {\n",
       "        text-align: left;\n",
       "    }\n",
       "\n",
       "    .dataframe tbody tr th {\n",
       "        vertical-align: top;\n",
       "    }\n",
       "</style>\n",
       "<table border=\"1\" class=\"dataframe\">\n",
       "  <thead>\n",
       "    <tr style=\"text-align: right;\">\n",
       "      <th></th>\n",
       "      <th>term</th>\n",
       "      <th>df</th>\n",
       "    </tr>\n",
       "  </thead>\n",
       "  <tbody>\n",
       "    <tr>\n",
       "      <th>0</th>\n",
       "      <td>лев</td>\n",
       "      <td>4</td>\n",
       "    </tr>\n",
       "    <tr>\n",
       "      <th>1</th>\n",
       "      <td>черепаха</td>\n",
       "      <td>2</td>\n",
       "    </tr>\n",
       "    <tr>\n",
       "      <th>2</th>\n",
       "      <td>жучка</td>\n",
       "      <td>1</td>\n",
       "    </tr>\n",
       "    <tr>\n",
       "      <th>3</th>\n",
       "      <td>вол</td>\n",
       "      <td>1</td>\n",
       "    </tr>\n",
       "    <tr>\n",
       "      <th>4</th>\n",
       "      <td>кошка</td>\n",
       "      <td>2</td>\n",
       "    </tr>\n",
       "    <tr>\n",
       "      <th>5</th>\n",
       "      <td>орел</td>\n",
       "      <td>3</td>\n",
       "    </tr>\n",
       "    <tr>\n",
       "      <th>6</th>\n",
       "      <td>человек</td>\n",
       "      <td>1</td>\n",
       "    </tr>\n",
       "    <tr>\n",
       "      <th>7</th>\n",
       "      <td>мышка</td>\n",
       "      <td>1</td>\n",
       "    </tr>\n",
       "    <tr>\n",
       "      <th>8</th>\n",
       "      <td>грифон</td>\n",
       "      <td>1</td>\n",
       "    </tr>\n",
       "  </tbody>\n",
       "</table>\n",
       "</div>"
      ],
      "text/plain": [
       "       term  df\n",
       "0       лев   4\n",
       "1  черепаха   2\n",
       "2     жучка   1\n",
       "3       вол   1\n",
       "4     кошка   2\n",
       "5      орел   3\n",
       "6   человек   1\n",
       "7     мышка   1\n",
       "8    грифон   1"
      ]
     },
     "execution_count": 2,
     "metadata": {},
     "output_type": "execute_result"
    }
   ],
   "source": [
    "import re\n",
    "import numpy as np\n",
    "import pandas as pd\n",
    "\n",
    "\n",
    "from collections import defaultdict, Counter \n",
    "\n",
    "def parse_doc(doc):\n",
    "    return re.split(r'\\s+', doc, re.U)\n",
    "\n",
    "# подсчет df по коллекции\n",
    "def calc_df_dict(docs):\n",
    "    c = Counter() \n",
    "    for doc_id, doc in enumerate(docs):\n",
    "        c.update(set(parse_doc(doc)))\n",
    "    return c \n",
    "    \n",
    "# подсчет tf для документа\n",
    "def calc_tf_dict(doc):\n",
    "    c = Counter() \n",
    "    for word in parse_doc(doc):\n",
    "        c[word] += 1\n",
    "    return c \n",
    "    \n",
    "dfs = calc_df_dict(docs)\n",
    "pd.DataFrame(data=list(dfs.items()), columns=['term', 'df'])"
   ]
  },
  {
   "cell_type": "markdown",
   "metadata": {},
   "source": [
    "Каждому слову и каждому документу можно присвоить уникальный численнй индефикатор, и построить так называемую tf-матрицу, состоящую из элементов $\\{tf_{t,d}\\}$ - вес слова $t$ в документе $d$ (где $t = 1 \\dots n$ - индексы слов, $j = 1 \\dots k$ - индексы документов). Под весом может подразумеваться число вхождний, нормализированная частота, и т.п.\n",
    "\n",
    "### Система обозначений SMART\n",
    "\n",
    "$\\{tf_{t,d}\\}$ не всегда дает адекватне предсавление (документы могут быть сильно не равной длины, не учитывается значимость слов). Поэтому существует более сложные модели под обобщеным названием *tf-idf* (term frequency - inverted document frequency), где используется документная частота слова. Идея в том, что для каждого слова в каждом документе считается *tf*, потом *idf* и значения перемножаются. Потом для каждого документа получается вектор, с которым можно что-то сделать (нормализовать).\n",
    "\n",
    "<table width=\"100%\">\n",
    "<tr><th width=\"33%\">Частота термина</th><th width=\"33%\">Документная частота</th><th width=\"33%\">Нормировка</th></tr>\n",
    "<tr><td>n $$\\text{tf}_{t,d}$$</td><td>n $$1$$</td><td>n $$1$$</td></tr>\n",
    "<tr><td>l $$1 + \\log{\\text{tf}_{t,d}}$$</td> <td>t $$\\log{\\frac{N}{\\text{df}_i}}$$</td><td>c $$\\frac{1}{\\sqrt{\\omega_1^2 + \\ldots + \\omega_m^2}}$$</td></tr>\n",
    "\n",
    "<tr><td>a $$0.5 + \\frac{0.5 \\text{tf}_{t,d}}{\\max_t{ \\text{tf}_{t,d}}}$$</td><td>p $$\\text{max}(0, \\log{\\frac{N - \\text{df}_i}{\\text{df}_i}})$$</td><td></td></tr>\n",
    "\n",
    "<tr><td>b $$  \\begin{cases}\n",
    "    1, & \\text{if }  \\text{tf}_{t,d} > 0 \\\\\n",
    "    0, & \\text{otherwise}\n",
    "    \\end{cases}$$\n",
    "    </td><td></td></tr>\n",
    "\n",
    "<tr><td>L $$\\frac{1 + \\log{\\text{tf}_{t,d}}}{1 + \\log{\\text{avg}_{t \\in d}(\\text{tf}_{t,d})}}$$</td> <td></td></tr>\n",
    "\n",
    "</table>"
   ]
  },
  {
   "cell_type": "markdown",
   "metadata": {},
   "source": [
    "### Ипользование scikit-learn"
   ]
  },
  {
   "cell_type": "code",
   "execution_count": 3,
   "metadata": {},
   "outputs": [
    {
     "data": {
      "text/plain": [
       "array([[0, 0, 0, 0, 1, 0, 1, 2, 1],\n",
       "       [1, 0, 0, 0, 1, 0, 1, 0, 0],\n",
       "       [0, 0, 0, 1, 2, 0, 0, 0, 1],\n",
       "       [0, 0, 1, 1, 0, 1, 0, 0, 0],\n",
       "       [0, 1, 0, 0, 1, 0, 1, 0, 0]], dtype=int64)"
      ]
     },
     "execution_count": 3,
     "metadata": {},
     "output_type": "execute_result"
    }
   ],
   "source": [
    "from sklearn.feature_extraction.text import TfidfVectorizer, CountVectorizer\n",
    "\n",
    "vectorizer = CountVectorizer()\n",
    "vectorizer.fit_transform(docs).toarray()  "
   ]
  },
  {
   "cell_type": "code",
   "execution_count": 4,
   "metadata": {},
   "outputs": [
    {
     "name": "stdout",
     "output_type": "stream",
     "text": [
      "вол\n",
      "грифон\n",
      "жучка\n",
      "кошка\n",
      "лев\n",
      "мышка\n",
      "орел\n",
      "человек\n",
      "черепаха\n"
     ]
    }
   ],
   "source": [
    "print('\\n'.join(vectorizer.get_feature_names()))"
   ]
  },
  {
   "cell_type": "code",
   "execution_count": null,
   "metadata": {
    "collapsed": true,
    "jupyter": {
     "outputs_hidden": true
    }
   },
   "outputs": [],
   "source": []
  }
 ],
 "metadata": {
  "kernelspec": {
   "display_name": "Python 3",
   "language": "python",
   "name": "python3"
  },
  "language_info": {
   "codemirror_mode": {
    "name": "ipython",
    "version": 3
   },
   "file_extension": ".py",
   "mimetype": "text/x-python",
   "name": "python",
   "nbconvert_exporter": "python",
   "pygments_lexer": "ipython3",
   "version": "3.6.9"
  }
 },
 "nbformat": 4,
 "nbformat_minor": 4
}
