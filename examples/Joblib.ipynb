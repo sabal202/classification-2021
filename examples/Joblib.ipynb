{
 "cells": [
  {
   "cell_type": "markdown",
   "metadata": {},
   "source": [
    "# Joblib\n",
    "\n",
    "Набор утилит для распараллеливания задач, эффективного дискового кэширования и сериализации"
   ]
  },
  {
   "cell_type": "code",
   "execution_count": 1,
   "metadata": {},
   "outputs": [],
   "source": [
    "import tempfile\n",
    "\n",
    "import numpy as np\n",
    "\n",
    "import joblib\n",
    "from joblib import Memory, Parallel, delayed"
   ]
  },
  {
   "cell_type": "markdown",
   "metadata": {},
   "source": [
    "### Кэширование"
   ]
  },
  {
   "cell_type": "code",
   "execution_count": 2,
   "metadata": {},
   "outputs": [
    {
     "name": "stdout",
     "output_type": "stream",
     "text": [
      "________________________________________________________________________________\n",
      "[Memory] Calling __main__--home-alex-work-university-courses-ml_course-classification-2021-examples-<ipython-input-8f65b72960ea>.long_running_func...\n",
      "long_running_func(array([[0.352053, ..., 0.211678],\n",
      "       ...,\n",
      "       [0.265521, ..., 0.256596]]))\n",
      "________________________________________________long_running_func - 1.1s, 0.0min\n"
     ]
    }
   ],
   "source": [
    "with tempfile.TemporaryDirectory() as cachedir:\n",
    "    mem = Memory(cachedir)\n",
    "    \n",
    "    @mem.cache\n",
    "    def long_running_func(arr: np.ndarray) -> np.ndarray:\n",
    "        return np.linalg.pinv(arr)\n",
    "    \n",
    "    \n",
    "    arr = np.random.random(size=(1000, 1000))\n",
    "    long_running_func(arr)\n",
    "    long_running_func(arr)\n",
    "        "
   ]
  },
  {
   "cell_type": "markdown",
   "metadata": {},
   "source": [
    "### Параллельные вычисления"
   ]
  },
  {
   "cell_type": "code",
   "execution_count": 3,
   "metadata": {},
   "outputs": [],
   "source": [
    "import os\n",
    "import time\n",
    "from typing import List\n",
    "\n",
    "def func(x: np.ndarray) -> np.float:\n",
    "    time.sleep(1)\n",
    "    return np.linalg.pinv(x ** 5 + x).sum()\n",
    "\n",
    "matrixes = [np.random.randn(1000, 1000) for _ in range(8)]\n",
    "\n",
    "def func_parallel(matrixes: List[np.ndarray]):\n",
    "    with Parallel(n_jobs=os.cpu_count(), backend=\"multiprocessing\") as parallel:\n",
    "        result = parallel([delayed(func)(matr) for matr in matrixes])\n",
    "        return result\n",
    "        \n",
    "def func_seq(matrixes: List[np.ndarray]):\n",
    "    result = [func(matr) for matr in matrixes]\n",
    "    return result"
   ]
  },
  {
   "cell_type": "code",
   "execution_count": 4,
   "metadata": {},
   "outputs": [
    {
     "name": "stdout",
     "output_type": "stream",
     "text": [
      "CPU times: user 59.6 ms, sys: 51.1 ms, total: 111 ms\n",
      "Wall time: 10.5 s\n"
     ]
    }
   ],
   "source": [
    "%time r1 = func_parallel(matrixes)"
   ]
  },
  {
   "cell_type": "code",
   "execution_count": 5,
   "metadata": {},
   "outputs": [
    {
     "name": "stdout",
     "output_type": "stream",
     "text": [
      "CPU times: user 19 s, sys: 6.71 s, total: 25.7 s\n",
      "Wall time: 15 s\n"
     ]
    }
   ],
   "source": [
    "%time r2 = func_seq(matrixes)"
   ]
  },
  {
   "cell_type": "markdown",
   "metadata": {},
   "source": [
    "### Сериализация"
   ]
  },
  {
   "cell_type": "code",
   "execution_count": 6,
   "metadata": {},
   "outputs": [
    {
     "name": "stdout",
     "output_type": "stream",
     "text": [
      "[[0.33925968 0.51173772 0.24037399 ... 0.55335966 0.18091704 0.77346507]\n",
      " [0.83479128 0.82199771 0.80003229 ... 0.51364328 0.14649307 0.3624289 ]\n",
      " [0.26438163 0.61131125 0.16994692 ... 0.73150441 0.06054313 0.4217644 ]\n",
      " ...\n",
      " [0.86157206 0.41150795 0.05905909 ... 0.64201443 0.75577104 0.82069727]\n",
      " [0.66216295 0.69369048 0.09390891 ... 0.8337039  0.5957274  0.01403108]\n",
      " [0.39128545 0.3325238  0.40774211 ... 0.4559801  0.90186941 0.29816189]]\n"
     ]
    }
   ],
   "source": [
    "with tempfile.NamedTemporaryFile(suffix='.lz4') as fn:\n",
    "    \n",
    "    big_array = np.random.random(size=(1000, 1000))\n",
    "    \n",
    "    with open(fn.name, 'wb') as f:\n",
    "        joblib.dump(big_array, f)\n",
    "        \n",
    "    print(joblib.load(open(fn.name, 'rb')))"
   ]
  },
  {
   "cell_type": "code",
   "execution_count": null,
   "metadata": {},
   "outputs": [],
   "source": []
  }
 ],
 "metadata": {
  "kernelspec": {
   "display_name": "Python 3",
   "language": "python",
   "name": "python3"
  },
  "language_info": {
   "codemirror_mode": {
    "name": "ipython",
    "version": 3
   },
   "file_extension": ".py",
   "mimetype": "text/x-python",
   "name": "python",
   "nbconvert_exporter": "python",
   "pygments_lexer": "ipython3",
   "version": "3.6.9"
  }
 },
 "nbformat": 4,
 "nbformat_minor": 4
}
