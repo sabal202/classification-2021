{
 "cells": [
  {
   "cell_type": "markdown",
   "metadata": {},
   "source": [
    "# Линейная регрессия и JAX"
   ]
  },
  {
   "cell_type": "code",
   "execution_count": 1,
   "metadata": {},
   "outputs": [],
   "source": [
    "import pandas as pd\n",
    "\n",
    "import jax.numpy as jnp\n",
    "import jax\n",
    "import numpy as np\n",
    "\n",
    "import sklearn\n",
    "import sklearn.model_selection\n",
    "import sklearn.datasets\n",
    "\n",
    "import matplotlib.pyplot as plt\n",
    "import seaborn as sns\n",
    "sns.set()"
   ]
  },
  {
   "cell_type": "markdown",
   "metadata": {},
   "source": [
    "Загрузим данные `boston housing` - 13 атрибутов и цена дома"
   ]
  },
  {
   "cell_type": "code",
   "execution_count": 2,
   "metadata": {},
   "outputs": [
    {
     "data": {
      "text/html": [
       "<div>\n",
       "<style scoped>\n",
       "    .dataframe tbody tr th:only-of-type {\n",
       "        vertical-align: middle;\n",
       "    }\n",
       "\n",
       "    .dataframe tbody tr th {\n",
       "        vertical-align: top;\n",
       "    }\n",
       "\n",
       "    .dataframe thead th {\n",
       "        text-align: right;\n",
       "    }\n",
       "</style>\n",
       "<table border=\"1\" class=\"dataframe\">\n",
       "  <thead>\n",
       "    <tr style=\"text-align: right;\">\n",
       "      <th></th>\n",
       "      <th>CRIM</th>\n",
       "      <th>ZN</th>\n",
       "      <th>INDUS</th>\n",
       "      <th>CHAS</th>\n",
       "      <th>NOX</th>\n",
       "      <th>RM</th>\n",
       "      <th>AGE</th>\n",
       "      <th>DIS</th>\n",
       "      <th>RAD</th>\n",
       "      <th>TAX</th>\n",
       "      <th>PTRATIO</th>\n",
       "      <th>B</th>\n",
       "      <th>LSTAT</th>\n",
       "    </tr>\n",
       "  </thead>\n",
       "  <tbody>\n",
       "    <tr>\n",
       "      <th>0</th>\n",
       "      <td>-0.419782</td>\n",
       "      <td>0.284830</td>\n",
       "      <td>-1.287909</td>\n",
       "      <td>-0.272599</td>\n",
       "      <td>-0.144217</td>\n",
       "      <td>0.413672</td>\n",
       "      <td>-0.120013</td>\n",
       "      <td>0.140214</td>\n",
       "      <td>-0.982843</td>\n",
       "      <td>-0.666608</td>\n",
       "      <td>-1.459000</td>\n",
       "      <td>0.441052</td>\n",
       "      <td>-1.075562</td>\n",
       "    </tr>\n",
       "    <tr>\n",
       "      <th>1</th>\n",
       "      <td>-0.417339</td>\n",
       "      <td>-0.487722</td>\n",
       "      <td>-0.593381</td>\n",
       "      <td>-0.272599</td>\n",
       "      <td>-0.740262</td>\n",
       "      <td>0.194274</td>\n",
       "      <td>0.367166</td>\n",
       "      <td>0.557160</td>\n",
       "      <td>-0.867883</td>\n",
       "      <td>-0.987329</td>\n",
       "      <td>-0.303094</td>\n",
       "      <td>0.441052</td>\n",
       "      <td>-0.492439</td>\n",
       "    </tr>\n",
       "    <tr>\n",
       "      <th>2</th>\n",
       "      <td>-0.417342</td>\n",
       "      <td>-0.487722</td>\n",
       "      <td>-0.593381</td>\n",
       "      <td>-0.272599</td>\n",
       "      <td>-0.740262</td>\n",
       "      <td>1.282714</td>\n",
       "      <td>-0.265812</td>\n",
       "      <td>0.557160</td>\n",
       "      <td>-0.867883</td>\n",
       "      <td>-0.987329</td>\n",
       "      <td>-0.303094</td>\n",
       "      <td>0.396427</td>\n",
       "      <td>-1.208727</td>\n",
       "    </tr>\n",
       "    <tr>\n",
       "      <th>3</th>\n",
       "      <td>-0.416750</td>\n",
       "      <td>-0.487722</td>\n",
       "      <td>-1.306878</td>\n",
       "      <td>-0.272599</td>\n",
       "      <td>-0.835284</td>\n",
       "      <td>1.016303</td>\n",
       "      <td>-0.809889</td>\n",
       "      <td>1.077737</td>\n",
       "      <td>-0.752922</td>\n",
       "      <td>-1.106115</td>\n",
       "      <td>0.113032</td>\n",
       "      <td>0.416163</td>\n",
       "      <td>-1.361517</td>\n",
       "    </tr>\n",
       "    <tr>\n",
       "      <th>4</th>\n",
       "      <td>-0.412482</td>\n",
       "      <td>-0.487722</td>\n",
       "      <td>-1.306878</td>\n",
       "      <td>-0.272599</td>\n",
       "      <td>-0.835284</td>\n",
       "      <td>1.228577</td>\n",
       "      <td>-0.511180</td>\n",
       "      <td>1.077737</td>\n",
       "      <td>-0.752922</td>\n",
       "      <td>-1.106115</td>\n",
       "      <td>0.113032</td>\n",
       "      <td>0.441052</td>\n",
       "      <td>-1.026501</td>\n",
       "    </tr>\n",
       "  </tbody>\n",
       "</table>\n",
       "</div>"
      ],
      "text/plain": [
       "       CRIM        ZN     INDUS      CHAS       NOX        RM       AGE  \\\n",
       "0 -0.419782  0.284830 -1.287909 -0.272599 -0.144217  0.413672 -0.120013   \n",
       "1 -0.417339 -0.487722 -0.593381 -0.272599 -0.740262  0.194274  0.367166   \n",
       "2 -0.417342 -0.487722 -0.593381 -0.272599 -0.740262  1.282714 -0.265812   \n",
       "3 -0.416750 -0.487722 -1.306878 -0.272599 -0.835284  1.016303 -0.809889   \n",
       "4 -0.412482 -0.487722 -1.306878 -0.272599 -0.835284  1.228577 -0.511180   \n",
       "\n",
       "        DIS       RAD       TAX   PTRATIO         B     LSTAT  \n",
       "0  0.140214 -0.982843 -0.666608 -1.459000  0.441052 -1.075562  \n",
       "1  0.557160 -0.867883 -0.987329 -0.303094  0.441052 -0.492439  \n",
       "2  0.557160 -0.867883 -0.987329 -0.303094  0.396427 -1.208727  \n",
       "3  1.077737 -0.752922 -1.106115  0.113032  0.416163 -1.361517  \n",
       "4  1.077737 -0.752922 -1.106115  0.113032  0.441052 -1.026501  "
      ]
     },
     "execution_count": 2,
     "metadata": {},
     "output_type": "execute_result"
    }
   ],
   "source": [
    "dataset = sklearn.datasets.load_boston()\n",
    "\n",
    "X, y = dataset['data'], dataset['target']\n",
    "feats = dataset['feature_names']\n",
    "\n",
    "#X = (X - X.min(axis=0)) / (X.max(axis=0) - X.min(axis=0))\n",
    "X = (X - X.mean(axis=0)) / np.sqrt(X.var(axis=0))\n",
    "\n",
    "pd.DataFrame(X, columns=feats).head()"
   ]
  },
  {
   "cell_type": "markdown",
   "metadata": {},
   "source": [
    "Разделим тестовую и тренировную выборки"
   ]
  },
  {
   "cell_type": "code",
   "execution_count": 3,
   "metadata": {},
   "outputs": [],
   "source": [
    "X_train, X_test, y_train, y_test = sklearn.model_selection.train_test_split(X, y, test_size=0.3)"
   ]
  },
  {
   "cell_type": "markdown",
   "metadata": {},
   "source": [
    "Сгенериуем случайные значения для параметров линейной регрессии"
   ]
  },
  {
   "cell_type": "code",
   "execution_count": 4,
   "metadata": {},
   "outputs": [],
   "source": [
    "w = np.random.randn(13)\n",
    "b = np.random.randn(1)"
   ]
  },
  {
   "cell_type": "markdown",
   "metadata": {},
   "source": [
    "$$a(X) = x_{1}  w_{1} + \\ldots + x_n  w_n + b = x w^T + b $$"
   ]
  },
  {
   "cell_type": "markdown",
   "metadata": {},
   "source": [
    "Функция `predict` - на вход веса и данные"
   ]
  },
  {
   "cell_type": "code",
   "execution_count": 5,
   "metadata": {},
   "outputs": [],
   "source": [
    "def predict(w, b, X):\n",
    "    return X @ w.T + b"
   ]
  },
  {
   "cell_type": "markdown",
   "metadata": {},
   "source": [
    "Функция потерь (MSE)"
   ]
  },
  {
   "cell_type": "code",
   "execution_count": 6,
   "metadata": {},
   "outputs": [],
   "source": [
    "@jax.jit\n",
    "def loss(w, b, X, y_expected):\n",
    "    predicted = predict(w, b, X)\n",
    "    return ((y_expected - predicted) ** 2).mean()"
   ]
  },
  {
   "cell_type": "markdown",
   "metadata": {},
   "source": [
    "Градиент от функции потерь от параметров"
   ]
  },
  {
   "cell_type": "code",
   "execution_count": 7,
   "metadata": {},
   "outputs": [],
   "source": [
    "grad_loss = jax.jit(jax.grad(loss, argnums=(0, 1)))"
   ]
  },
  {
   "cell_type": "markdown",
   "metadata": {},
   "source": [
    "Цикл градиентного спуска"
   ]
  },
  {
   "cell_type": "code",
   "execution_count": 9,
   "metadata": {},
   "outputs": [],
   "source": [
    "train_losses = []\n",
    "test_losses = []\n",
    "\n",
    "alpha = 0.01\n",
    "for i in range(500):    \n",
    "    w_grad, b_grad = grad_loss(w, b, X_train, y_train)\n",
    "    \n",
    "    w -= alpha * w_grad\n",
    "    b -= alpha * b_grad        \n",
    "    \n",
    "    loss_train = loss(w, b, X_train, y_train)\n",
    "    loss_test = loss(w, b, X_test, y_test)\n",
    "    \n",
    "    train_losses.append(loss_train)\n",
    "    test_losses.append(loss_test)"
   ]
  },
  {
   "cell_type": "markdown",
   "metadata": {},
   "source": [
    "Графики "
   ]
  },
  {
   "cell_type": "code",
   "execution_count": 10,
   "metadata": {},
   "outputs": [
    {
     "data": {
      "text/plain": [
       "<matplotlib.legend.Legend at 0x7fabe06f7780>"
      ]
     },
     "execution_count": 10,
     "metadata": {},
     "output_type": "execute_result"
    },
    {
     "data": {
      "image/png": "[encoded data removed]",
      "text/plain": [
       "<Figure size 432x288 with 1 Axes>"
      ]
     },
     "metadata": {},
     "output_type": "display_data"
    }
   ],
   "source": [
    "ticks = np.arange(len(train_losses))\n",
    "\n",
    "plt.plot(ticks, test_losses, label='test')\n",
    "plt.plot(ticks, train_losses, label='train')\n",
    "\n",
    "plt.legend()"
   ]
  },
  {
   "cell_type": "code",
   "execution_count": 11,
   "metadata": {},
   "outputs": [
    {
     "data": {
      "text/html": [
       "<div>\n",
       "<style scoped>\n",
       "    .dataframe tbody tr th:only-of-type {\n",
       "        vertical-align: middle;\n",
       "    }\n",
       "\n",
       "    .dataframe tbody tr th {\n",
       "        vertical-align: top;\n",
       "    }\n",
       "\n",
       "    .dataframe thead th {\n",
       "        text-align: right;\n",
       "    }\n",
       "</style>\n",
       "<table border=\"1\" class=\"dataframe\">\n",
       "  <thead>\n",
       "    <tr style=\"text-align: right;\">\n",
       "      <th></th>\n",
       "      <th>CRIM</th>\n",
       "      <th>ZN</th>\n",
       "      <th>INDUS</th>\n",
       "      <th>CHAS</th>\n",
       "      <th>NOX</th>\n",
       "      <th>RM</th>\n",
       "      <th>AGE</th>\n",
       "      <th>DIS</th>\n",
       "      <th>RAD</th>\n",
       "      <th>TAX</th>\n",
       "      <th>PTRATIO</th>\n",
       "      <th>B</th>\n",
       "      <th>LSTAT</th>\n",
       "    </tr>\n",
       "  </thead>\n",
       "  <tbody>\n",
       "    <tr>\n",
       "      <th>0</th>\n",
       "      <td>-0.769593</td>\n",
       "      <td>1.047757</td>\n",
       "      <td>-0.63097</td>\n",
       "      <td>0.844402</td>\n",
       "      <td>-2.067609</td>\n",
       "      <td>2.25209</td>\n",
       "      <td>-0.320399</td>\n",
       "      <td>-3.583429</td>\n",
       "      <td>1.859369</td>\n",
       "      <td>-0.997597</td>\n",
       "      <td>-2.096129</td>\n",
       "      <td>0.769406</td>\n",
       "      <td>-3.504368</td>\n",
       "    </tr>\n",
       "  </tbody>\n",
       "</table>\n",
       "</div>"
      ],
      "text/plain": [
       "       CRIM        ZN    INDUS      CHAS       NOX       RM       AGE  \\\n",
       "0 -0.769593  1.047757 -0.63097  0.844402 -2.067609  2.25209 -0.320399   \n",
       "\n",
       "        DIS       RAD       TAX   PTRATIO         B     LSTAT  \n",
       "0 -3.583429  1.859369 -0.997597 -2.096129  0.769406 -3.504368  "
      ]
     },
     "execution_count": 11,
     "metadata": {},
     "output_type": "execute_result"
    }
   ],
   "source": [
    "pd.DataFrame([w], columns=feats)"
   ]
  },
  {
   "cell_type": "markdown",
   "metadata": {},
   "source": [
    "# Линейная регрессия и PyTorch"
   ]
  },
  {
   "cell_type": "code",
   "execution_count": 12,
   "metadata": {},
   "outputs": [],
   "source": [
    "import torch.nn\n",
    "import torch\n",
    "\n",
    "from torchviz import make_dot"
   ]
  },
  {
   "cell_type": "markdown",
   "metadata": {},
   "source": [
    "Загрузим даные в массивы `NumPy`"
   ]
  },
  {
   "cell_type": "code",
   "execution_count": 13,
   "metadata": {},
   "outputs": [],
   "source": [
    "X_train, X_test, y_train, y_test = sklearn.model_selection.train_test_split(X, y, test_size=0.3)"
   ]
  },
  {
   "cell_type": "markdown",
   "metadata": {},
   "source": [
    "Преобразуем массивы `NumPy` в тензоры `PyTorch`"
   ]
  },
  {
   "cell_type": "code",
   "execution_count": 14,
   "metadata": {},
   "outputs": [],
   "source": [
    "dtype = torch.get_default_dtype()\n",
    "\n",
    "t_X_train = torch.tensor(X_train, dtype=dtype)\n",
    "t_y_train = torch.tensor(y_train, dtype=dtype)\n",
    "\n",
    "t_X_test = torch.tensor(X_test, dtype=dtype)\n",
    "t_y_test = torch.tensor(y_test, dtype=dtype)"
   ]
  },
  {
   "cell_type": "markdown",
   "metadata": {},
   "source": [
    "Сгенерируем случайные значения для `w` и `b`, посчитаем mse для тестовых данных"
   ]
  },
  {
   "cell_type": "code",
   "execution_count": 15,
   "metadata": {},
   "outputs": [],
   "source": [
    "w = torch.randn(1, 13, requires_grad=True)\n",
    "b = torch.randn(1, requires_grad=True)\n",
    "\n",
    "predicted = t_X_train @ w.view(-1, 1) + b\n",
    "mse = ((predicted - t_y_train) ** 2).mean()"
   ]
  },
  {
   "cell_type": "markdown",
   "metadata": {},
   "source": [
    "Отобразим граф операций, который используется для вычисления градиента"
   ]
  },
  {
   "cell_type": "code",
   "execution_count": 16,
   "metadata": {},
   "outputs": [
    {
     "data": {
      "image/svg+xml": [
       "<?xml version=\"1.0\" encoding=\"UTF-8\" standalone=\"no\"?>\n",
       "<!DOCTYPE svg PUBLIC \"-//W3C//DTD SVG 1.1//EN\"\n",
       " \"http://www.w3.org/Graphics/SVG/1.1/DTD/svg11.dtd\">\n",
       "<!-- Generated by graphviz version 2.40.1 (20161225.0304)\n",
       " -->\n",
       "<!-- Title: %3 Pages: 1 -->\n",
       "<svg width=\"169pt\" height=\"397pt\"\n",
       " viewBox=\"0.00 0.00 169.00 397.00\" xmlns=\"http://www.w3.org/2000/svg\" xmlns:xlink=\"http://www.w3.org/1999/xlink\">\n",
       "<g id=\"graph0\" class=\"graph\" transform=\"scale(1 1) rotate(0) translate(4 393)\">\n",
       "<title>%3</title>\n",
       "<polygon fill=\"#ffffff\" stroke=\"transparent\" points=\"-4,4 -4,-393 165,-393 165,4 -4,4\"/>\n",
       "<!-- 140376175797192 -->\n",
       "<g id=\"node1\" class=\"node\">\n",
       "<title>140376175797192</title>\n",
       "<polygon fill=\"#caff70\" stroke=\"#000000\" points=\"139,-21 41,-21 41,0 139,0 139,-21\"/>\n",
       "<text text-anchor=\"middle\" x=\"90\" y=\"-7.4\" font-family=\"Times,serif\" font-size=\"12.00\" fill=\"#000000\">MeanBackward0</text>\n",
       "</g>\n",
       "<!-- 140376175796800 -->\n",
       "<g id=\"node2\" class=\"node\">\n",
       "<title>140376175796800</title>\n",
       "<polygon fill=\"#d3d3d3\" stroke=\"#000000\" points=\"136.5,-78 43.5,-78 43.5,-57 136.5,-57 136.5,-78\"/>\n",
       "<text text-anchor=\"middle\" x=\"90\" y=\"-64.4\" font-family=\"Times,serif\" font-size=\"12.00\" fill=\"#000000\">PowBackward0</text>\n",
       "</g>\n",
       "<!-- 140376175796800&#45;&gt;140376175797192 -->\n",
       "<g id=\"edge1\" class=\"edge\">\n",
       "<title>140376175796800&#45;&gt;140376175797192</title>\n",
       "<path fill=\"none\" stroke=\"#000000\" d=\"M90,-56.7787C90,-49.6134 90,-39.9517 90,-31.3097\"/>\n",
       "<polygon fill=\"#000000\" stroke=\"#000000\" points=\"93.5001,-31.1732 90,-21.1732 86.5001,-31.1732 93.5001,-31.1732\"/>\n",
       "</g>\n",
       "<!-- 140376175797136 -->\n",
       "<g id=\"node3\" class=\"node\">\n",
       "<title>140376175797136</title>\n",
       "<polygon fill=\"#d3d3d3\" stroke=\"#000000\" points=\"135,-135 45,-135 45,-114 135,-114 135,-135\"/>\n",
       "<text text-anchor=\"middle\" x=\"90\" y=\"-121.4\" font-family=\"Times,serif\" font-size=\"12.00\" fill=\"#000000\">SubBackward0</text>\n",
       "</g>\n",
       "<!-- 140376175797136&#45;&gt;140376175796800 -->\n",
       "<g id=\"edge2\" class=\"edge\">\n",
       "<title>140376175797136&#45;&gt;140376175796800</title>\n",
       "<path fill=\"none\" stroke=\"#000000\" d=\"M90,-113.7787C90,-106.6134 90,-96.9517 90,-88.3097\"/>\n",
       "<polygon fill=\"#000000\" stroke=\"#000000\" points=\"93.5001,-88.1732 90,-78.1732 86.5001,-88.1732 93.5001,-88.1732\"/>\n",
       "</g>\n",
       "<!-- 140376175796968 -->\n",
       "<g id=\"node4\" class=\"node\">\n",
       "<title>140376175796968</title>\n",
       "<polygon fill=\"#d3d3d3\" stroke=\"#000000\" points=\"136,-192 44,-192 44,-171 136,-171 136,-192\"/>\n",
       "<text text-anchor=\"middle\" x=\"90\" y=\"-178.4\" font-family=\"Times,serif\" font-size=\"12.00\" fill=\"#000000\">AddBackward0</text>\n",
       "</g>\n",
       "<!-- 140376175796968&#45;&gt;140376175797136 -->\n",
       "<g id=\"edge3\" class=\"edge\">\n",
       "<title>140376175796968&#45;&gt;140376175797136</title>\n",
       "<path fill=\"none\" stroke=\"#000000\" d=\"M90,-170.7787C90,-163.6134 90,-153.9517 90,-145.3097\"/>\n",
       "<polygon fill=\"#000000\" stroke=\"#000000\" points=\"93.5001,-145.1732 90,-135.1732 86.5001,-145.1732 93.5001,-145.1732\"/>\n",
       "</g>\n",
       "<!-- 140376181694192 -->\n",
       "<g id=\"node5\" class=\"node\">\n",
       "<title>140376181694192</title>\n",
       "<polygon fill=\"#d3d3d3\" stroke=\"#000000\" points=\"88.5,-255.5 3.5,-255.5 3.5,-234.5 88.5,-234.5 88.5,-255.5\"/>\n",
       "<text text-anchor=\"middle\" x=\"46\" y=\"-241.9\" font-family=\"Times,serif\" font-size=\"12.00\" fill=\"#000000\">MmBackward</text>\n",
       "</g>\n",
       "<!-- 140376181694192&#45;&gt;140376175796968 -->\n",
       "<g id=\"edge4\" class=\"edge\">\n",
       "<title>140376181694192&#45;&gt;140376175796968</title>\n",
       "<path fill=\"none\" stroke=\"#000000\" d=\"M53.464,-234.2281C59.8234,-225.0503 69.116,-211.6394 76.7379,-200.6396\"/>\n",
       "<polygon fill=\"#000000\" stroke=\"#000000\" points=\"79.8276,-202.3259 82.6462,-192.1128 74.0739,-198.339 79.8276,-202.3259\"/>\n",
       "</g>\n",
       "<!-- 140375841531944 -->\n",
       "<g id=\"node6\" class=\"node\">\n",
       "<title>140375841531944</title>\n",
       "<polygon fill=\"#d3d3d3\" stroke=\"#000000\" points=\"92,-319 0,-319 0,-298 92,-298 92,-319\"/>\n",
       "<text text-anchor=\"middle\" x=\"46\" y=\"-305.4\" font-family=\"Times,serif\" font-size=\"12.00\" fill=\"#000000\">ViewBackward</text>\n",
       "</g>\n",
       "<!-- 140375841531944&#45;&gt;140376181694192 -->\n",
       "<g id=\"edge5\" class=\"edge\">\n",
       "<title>140375841531944&#45;&gt;140376181694192</title>\n",
       "<path fill=\"none\" stroke=\"#000000\" d=\"M46,-297.7281C46,-289.0091 46,-276.4699 46,-265.8068\"/>\n",
       "<polygon fill=\"#000000\" stroke=\"#000000\" points=\"49.5001,-265.6128 46,-255.6128 42.5001,-265.6129 49.5001,-265.6128\"/>\n",
       "</g>\n",
       "<!-- 140375841531832 -->\n",
       "<g id=\"node7\" class=\"node\">\n",
       "<title>140375841531832</title>\n",
       "<polygon fill=\"#add8e6\" stroke=\"#000000\" points=\"73,-389 19,-389 19,-355 73,-355 73,-389\"/>\n",
       "<text text-anchor=\"middle\" x=\"46\" y=\"-375.4\" font-family=\"Times,serif\" font-size=\"12.00\" fill=\"#000000\">w</text>\n",
       "<text text-anchor=\"middle\" x=\"46\" y=\"-362.4\" font-family=\"Times,serif\" font-size=\"12.00\" fill=\"#000000\"> (1, 13)</text>\n",
       "</g>\n",
       "<!-- 140375841531832&#45;&gt;140375841531944 -->\n",
       "<g id=\"edge6\" class=\"edge\">\n",
       "<title>140375841531832&#45;&gt;140375841531944</title>\n",
       "<path fill=\"none\" stroke=\"#000000\" d=\"M46,-354.9832C46,-347.1157 46,-337.6973 46,-329.4019\"/>\n",
       "<polygon fill=\"#000000\" stroke=\"#000000\" points=\"49.5001,-329.3686 46,-319.3687 42.5001,-329.3687 49.5001,-329.3686\"/>\n",
       "</g>\n",
       "<!-- 140376181673824 -->\n",
       "<g id=\"node8\" class=\"node\">\n",
       "<title>140376181673824</title>\n",
       "<polygon fill=\"#add8e6\" stroke=\"#000000\" points=\"161,-262 107,-262 107,-228 161,-228 161,-262\"/>\n",
       "<text text-anchor=\"middle\" x=\"134\" y=\"-248.4\" font-family=\"Times,serif\" font-size=\"12.00\" fill=\"#000000\">b</text>\n",
       "<text text-anchor=\"middle\" x=\"134\" y=\"-235.4\" font-family=\"Times,serif\" font-size=\"12.00\" fill=\"#000000\"> (1)</text>\n",
       "</g>\n",
       "<!-- 140376181673824&#45;&gt;140376175796968 -->\n",
       "<g id=\"edge7\" class=\"edge\">\n",
       "<title>140376181673824&#45;&gt;140376175796968</title>\n",
       "<path fill=\"none\" stroke=\"#000000\" d=\"M122.2088,-227.9832C116.3898,-219.5853 109.3464,-209.4204 103.3319,-200.7404\"/>\n",
       "<polygon fill=\"#000000\" stroke=\"#000000\" points=\"106.1034,-198.5949 97.531,-192.3687 100.3497,-202.5817 106.1034,-198.5949\"/>\n",
       "</g>\n",
       "</g>\n",
       "</svg>\n"
      ],
      "text/plain": [
       "<graphviz.dot.Digraph at 0x7fabe017eda0>"
      ]
     },
     "execution_count": 16,
     "metadata": {},
     "output_type": "execute_result"
    }
   ],
   "source": [
    "make_dot(mse, {'w': w, 'b': b})"
   ]
  },
  {
   "cell_type": "markdown",
   "metadata": {},
   "source": [
    "Тривиальный цикл градиентного спуска. Контекстный менеджер `torch.grad()` отменяет построение графа операций внутри - он не нужен при обновлении модели. "
   ]
  },
  {
   "cell_type": "code",
   "execution_count": 17,
   "metadata": {},
   "outputs": [
    {
     "name": "stdout",
     "output_type": "stream",
     "text": [
      "Train mse 146.28631591796875\n",
      "Train mse 88.9519271850586\n",
      "Train mse 80.91447448730469\n",
      "Train mse 79.71350860595703\n",
      "Train mse 79.50830078125\n",
      "Train mse 79.46217346191406\n",
      "Train mse 79.44659423828125\n",
      "Train mse 79.4390640258789\n",
      "Train mse 79.43453979492188\n",
      "Train mse 79.43150329589844\n"
     ]
    }
   ],
   "source": [
    "lr = 0.01\n",
    "\n",
    "for step in range(500):\n",
    "    predicted = t_X_train @ w.view(-1, 1) + b\n",
    "    mse = ((predicted - t_y_train) ** 2).mean() \n",
    "    \n",
    "    if (step + 1) % 50 == 0:\n",
    "        print(f'Train mse {mse.item()}')\n",
    "    \n",
    "    mse.backward()    \n",
    "               \n",
    "    with torch.no_grad():\n",
    "        w -= lr * w.grad\n",
    "        b -= lr * b.grad        \n",
    "        \n",
    "        w.grad.zero_()\n",
    "        b.grad.zero_()                                                            "
   ]
  },
  {
   "cell_type": "markdown",
   "metadata": {},
   "source": [
    "Cозданим модель линейной регресси. Класс должен наследоваться от `torch.nn.Module`. В конструкторе все явно-заданные параметры-тензорв должны оборачиваться в `torch.nn.Parameter`  (это позволяет `PyTorch` автоматически определять параметры модели, сохранять их и т.д.). Метод `forward()` - вычисление значений модели. "
   ]
  },
  {
   "cell_type": "code",
   "execution_count": 18,
   "metadata": {},
   "outputs": [],
   "source": [
    "class LRModel(torch.nn.Module):    \n",
    "    def __init__(self):\n",
    "        super().__init__()\n",
    "        self.w = torch.nn.Parameter(torch.randn(1, 13, requires_grad=True))\n",
    "        self.b = torch.nn.Parameter(torch.randn(1, requires_grad=True))\n",
    "        \n",
    "    def forward(self, X):\n",
    "        predicted = X @ self.w.view(-1, 1) + self.b          \n",
    "        return predicted.view(-1)"
   ]
  },
  {
   "cell_type": "markdown",
   "metadata": {},
   "source": [
    "При оптимизации параметров используем специальный класс `SGD` - реализацию стохастического градиентного спуска. Таким образом не нужно больше вручную реализовывать изменение параметров на каждом шаге. "
   ]
  },
  {
   "cell_type": "code",
   "execution_count": 19,
   "metadata": {},
   "outputs": [],
   "source": [
    "from torch.optim import SGD\n",
    "\n",
    "model = LRModel()\n",
    "mse = torch.nn.MSELoss()\n",
    "\n",
    "optim = SGD(model.parameters(), lr=0.001)\n",
    "\n",
    "train_losses = []\n",
    "test_losses = []\n",
    "\n",
    "for step in range(1000):\n",
    "    optim.zero_grad()\n",
    "    \n",
    "    predicted = model(t_X_train)\n",
    "    loss = mse(t_y_train, predicted.view(-1))\n",
    "    loss.backward()\n",
    "    optim.step()\n",
    "    \n",
    "    if (step + 1) % 10 == 0:\n",
    "        train_loss = mse(t_y_train, model(t_X_train))\n",
    "        test_loss = mse(t_y_test, model(t_X_test))\n",
    "        \n",
    "        train_losses.append(train_loss)\n",
    "        test_losses.append(test_loss)\n",
    "    "
   ]
  },
  {
   "cell_type": "markdown",
   "metadata": {},
   "source": [
    "Строим графики"
   ]
  },
  {
   "cell_type": "code",
   "execution_count": 20,
   "metadata": {},
   "outputs": [
    {
     "data": {
      "text/plain": [
       "<matplotlib.legend.Legend at 0x7fabe071c048>"
      ]
     },
     "execution_count": 20,
     "metadata": {},
     "output_type": "execute_result"
    },
    {
     "data": {
      "image/png": "[encoded data removed]",
      "text/plain": [
       "<Figure size 432x288 with 1 Axes>"
      ]
     },
     "metadata": {},
     "output_type": "display_data"
    }
   ],
   "source": [
    "ticks = np.arange(len(train_losses))\n",
    "\n",
    "plt.plot(ticks, test_losses, label='test')\n",
    "plt.plot(ticks, train_losses, label='train')\n",
    "\n",
    "plt.legend()"
   ]
  }
 ],
 "metadata": {
  "kernelspec": {
   "display_name": "Python 3",
   "language": "python",
   "name": "python3"
  },
  "language_info": {
   "codemirror_mode": {
    "name": "ipython",
    "version": 3
   },
   "file_extension": ".py",
   "mimetype": "text/x-python",
   "name": "python",
   "nbconvert_exporter": "python",
   "pygments_lexer": "ipython3",
   "version": "3.6.9"
  }
 },
 "nbformat": 4,
 "nbformat_minor": 4
}
