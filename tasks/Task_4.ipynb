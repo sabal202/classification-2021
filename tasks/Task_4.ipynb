{
 "cells": [
  {
   "cell_type": "markdown",
   "metadata": {},
   "source": [
    "# Линейная регрессия"
   ]
  },
  {
   "cell_type": "markdown",
   "metadata": {},
   "source": [
    "Данные содержатся в файле `data/lin_reg.txt`. Прочитать их можно следующим так:"
   ]
  },
  {
   "cell_type": "code",
   "execution_count": 1,
   "metadata": {},
   "outputs": [],
   "source": [
    "import numpy as np\n",
    "D = np.loadtxt('../data/lin_reg.txt', delimiter=',')\n",
    "X = D[:, :-1]\n",
    "Y = D[:, -1]"
   ]
  },
  {
   "cell_type": "markdown",
   "metadata": {},
   "source": [
    "При выполнении заданий **нельзя** пользоваться `scikit-learn` и т.п., только `NumPy`/`JAX`/`TF`/`PyTorch` и `matplotlib`/`seaborn`/`plotly`/etc.\n",
    "\n",
    "1. Нарисуйте график среднеквадратичной ошибки в зависимости от параметра регуляризации $\\alpha$, используя полные данные для обучения и для тестирования. \n",
    "2. Подготовьте исходные данные для 5 fold CV.\n",
    "3. С помощью CV найдите оптимальное значение $\\alpha$ на какой-нибудь сетке значений.\n",
    "4. Постройте валидационную кривую. \n",
    "5. Постройте кривую обучения."
   ]
  },
  {
   "cell_type": "code",
   "execution_count": null,
   "metadata": {},
   "outputs": [],
   "source": []
  }
 ],
 "metadata": {
  "kernelspec": {
   "display_name": "Python 3",
   "language": "python",
   "name": "python3"
  },
  "language_info": {
   "codemirror_mode": {
    "name": "ipython",
    "version": 3
   },
   "file_extension": ".py",
   "mimetype": "text/x-python",
   "name": "python",
   "nbconvert_exporter": "python",
   "pygments_lexer": "ipython3",
   "version": "3.6.9"
  }
 },
 "nbformat": 4,
 "nbformat_minor": 4
}
