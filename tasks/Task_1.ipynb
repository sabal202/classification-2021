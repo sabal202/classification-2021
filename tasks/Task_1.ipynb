{
 "cells": [
  {
   "cell_type": "markdown",
   "metadata": {},
   "source": [
    "# Задание 1\n",
    "\n",
    "[Свертка списка](https://ru.wikipedia.org/wiki/%D0%A1%D0%B2%D1%91%D1%80%D1%82%D0%BA%D0%B0_%D1%81%D0%BF%D0%B8%D1%81%D0%BA%D0%B0) -  это обобщенная операция над списком, c помощью которой можно преобразовать список в единое значение. Например, рассмотрим реализации свертки слева и свертки справа (левоассоциативную свертку и правоассоциативную свертку):"
   ]
  },
  {
   "cell_type": "code",
   "execution_count": 1,
   "metadata": {
    "collapsed": true,
    "jupyter": {
     "outputs_hidden": true
    }
   },
   "outputs": [],
   "source": [
    "def foldl(f, x0, lst):\n",
    "    if not lst:\n",
    "        return x0\n",
    "    return foldl(f, f(x0, lst[0]), lst[1:])\n",
    "\n",
    "def foldr(f, x0, lst):\n",
    "    if not lst:\n",
    "        return x0\n",
    "    return f(lst[0], foldr(f, x0, lst[1:]))"
   ]
  },
  {
   "cell_type": "code",
   "execution_count": 2,
   "metadata": {},
   "outputs": [
    {
     "data": {
      "text/plain": [
       "6"
      ]
     },
     "execution_count": 2,
     "metadata": {},
     "output_type": "execute_result"
    }
   ],
   "source": [
    "#сумма\n",
    "foldl(lambda x, y: x + y, 0, [1, 2, 3])"
   ]
  },
  {
   "cell_type": "code",
   "execution_count": 3,
   "metadata": {},
   "outputs": [
    {
     "data": {
      "text/plain": [
       "'123'"
      ]
     },
     "execution_count": 3,
     "metadata": {},
     "output_type": "execute_result"
    }
   ],
   "source": [
    "#конкатенация\n",
    "foldl(lambda x, y: '{}{}'.format(x, y), '', [1, 2, 3])"
   ]
  },
  {
   "cell_type": "code",
   "execution_count": 4,
   "metadata": {},
   "outputs": [
    {
     "data": {
      "text/plain": [
       "(0.16666666666666666, 1.5)"
      ]
     },
     "execution_count": 4,
     "metadata": {},
     "output_type": "execute_result"
    }
   ],
   "source": [
    "f = lambda x, y: x / y\n",
    "foldl(f, 1, [1, 2, 3]), \\\n",
    "foldr(f, 1, [1, 2, 3])"
   ]
  },
  {
   "cell_type": "markdown",
   "metadata": {},
   "source": [
    "Задача: реализовать foldl через foldr и наоборот. Вместо многоточий нужно вставить выражения, которые бы привели к нужному результату. Модифицировать сам список нельзя. "
   ]
  },
  {
   "cell_type": "code",
   "execution_count": 5,
   "metadata": {
    "collapsed": true,
    "jupyter": {
     "outputs_hidden": true
    }
   },
   "outputs": [],
   "source": [
    "def foldl2(f, x0, lst):\n",
    "     return foldr(lambda x, g: lambda y: g(f(y, x)), lambda x: x, lst)(x0)\n",
    "\n",
    "def foldr2(f, x0, lst):\n",
    "    return foldl(lambda g, x: lambda y: g(f(x, y)), lambda x: x, lst)(x0)"
   ]
  },
  {
   "cell_type": "code",
   "execution_count": 6,
   "metadata": {},
   "outputs": [
    {
     "name": "stdout",
     "output_type": "stream",
     "text": [
      "Деление:\n",
      "FoldL result: 0.16666666666666666\n",
      "FoldL2 result: 0.16666666666666666\n",
      "FoldR result: 1.5\n",
      "FoldR2 result: 1.5\n",
      "Конкатенация:\n",
      "FoldL result: 123\n",
      "FoldL2 result: 123\n",
      "FoldR result: 123\n",
      "FoldR2 result: 123\n",
      "Сумма: \n",
      "FoldL result: 6\n",
      "FoldL2 result: 6\n",
      "FoldR result: 6\n",
      "FoldR2 result: 6\n"
     ]
    }
   ],
   "source": [
    "print('Деление:')\n",
    "f = lambda x, y: x / y\n",
    "\n",
    "print('FoldL result:', foldl(f, 1, [1,2,3]))\n",
    "print('FoldL2 result:', foldl2(f, 1, [1,2,3]))\n",
    "print('FoldR result:', foldr(f, 1, [1,2,3]))\n",
    "print('FoldR2 result:', foldr2(f, 1, [1,2,3]))\n",
    "\n",
    "print('Конкатенация:')\n",
    "g = lambda x, y: '{}{}'.format(x, y)\n",
    "\n",
    "print('FoldL result:', foldl(g, '', [1,2,3]))\n",
    "print('FoldL2 result:', foldl2(g, '', [1,2,3]))\n",
    "print('FoldR result:', foldr(g, '', [1,2,3]))\n",
    "print('FoldR2 result:', foldr2(g, '', [1,2,3]))\n",
    "\n",
    "print('Сумма: ')\n",
    "h = lambda x, y: x + y\n",
    "\n",
    "print('FoldL result:', foldl(h, 0, [1,2,3]))\n",
    "print('FoldL2 result:', foldl2(h, 0, [1,2,3]))\n",
    "print('FoldR result:', foldr(h, 0, [1,2,3]))\n",
    "print('FoldR2 result:', foldr2(h, 0, [1,2,3]))"
   ]
  },
  {
   "cell_type": "markdown",
   "metadata": {},
   "source": [
    "# Задание 2\n",
    "\n",
    "нужно написать функцию, которая принимает две строки и проверяет, входит ли хотя бы одна перестановка второй строки в первую. Например:\n",
    "\n",
    "> a = 'abcrotm'\n",
    "> \n",
    "> b = 'tro'\n",
    "\n",
    "функция def check_inv(a, b) вернет True, так как 'rot' содержится в 'abcrotm'. Нужно подумать как можно более оптимальный алгоритм и оценить его сложность. "
   ]
  },
  {
   "cell_type": "code",
   "execution_count": 8,
   "metadata": {
    "collapsed": true,
    "jupyter": {
     "outputs_hidden": true
    }
   },
   "outputs": [],
   "source": [
    "from itertools import permutations\n",
    "#O(|b|! * (1 + |a|))\n",
    "def check_inv_slow(a, b):\n",
    "    for x in list(map(lambda x: ''.join(x), list(permutations(b)))):\n",
    "        if x in a: \n",
    "            return True\n",
    "\n",
    "    \n",
    "#O(|a|*|b|^2)\n",
    "def check_inv_faster(a, b):\n",
    "    assert len(a) >= len(b)\n",
    "\n",
    "    for i in range(len(a)): \n",
    "        y = list(b)\n",
    "        \n",
    "        if len(a[i:]) < len(b):\n",
    "                return False \n",
    "        \n",
    "        for j in range(len(b)): #|b|*|b| times\n",
    "            if a[j + i] not in y:\n",
    "                if y == []:\n",
    "                    return True\n",
    "                else:\n",
    "                    break\n",
    "            elif a[j + i] in y:\n",
    "                y.remove(a[j + i])\n",
    "                if not y:\n",
    "                    return True\n",
    "    if y:\n",
    "        return False\n",
    "    else:\n",
    "        return True"
   ]
  },
  {
   "cell_type": "code",
   "execution_count": 9,
   "metadata": {},
   "outputs": [
    {
     "name": "stdout",
     "output_type": "stream",
     "text": [
      "2.12 ms ± 153 µs per loop (mean ± std. dev. of 7 runs, 1000 loops each)\n",
      "33.3 µs ± 4.99 µs per loop (mean ± std. dev. of 7 runs, 10000 loops each)\n"
     ]
    }
   ],
   "source": [
    "%timeit check_inv_slow('abbrabbcccabrabbrababa', 'babbbaa')\n",
    "%timeit check_inv_faster('abbrabbcccabrabbrababa', 'babbbaa')"
   ]
  },
  {
   "cell_type": "markdown",
   "metadata": {},
   "source": [
    "# Задание 3\n",
    "\n",
    "Реализовать бинарное дерево (класс Tree), в нём методы __repr__, __str__, __iter__ (итерация только по листьям)."
   ]
  },
  {
   "cell_type": "code",
   "execution_count": 12,
   "metadata": {},
   "outputs": [
    {
     "data": {
      "text/plain": [
       "True"
      ]
     },
     "execution_count": 12,
     "metadata": {},
     "output_type": "execute_result"
    }
   ],
   "source": [
    "class Tree:\n",
    "    def __init__(self, value=None, left=None, right=None):\n",
    "        self.left = left\n",
    "        self.right = right\n",
    "        self.value = value\n",
    "    \n",
    "    def __iter__(self):\n",
    "        if self.left is not None and self.right is not None:\n",
    "            yield from self.left\n",
    "            yield from self.right\n",
    "        elif self.left is None and self.right is not None:\n",
    "            yield from self.right\n",
    "        elif self.left is not None and self.right is None:\n",
    "            yield from self.left\n",
    "        elif self.left is None and self.right is None:\n",
    "            yield self.value                \n",
    "    \n",
    "    def __str__(self):\n",
    "        return f'Leaf ({self.value})'\n",
    "    \n",
    "    def __repr__(self):\n",
    "        return f'Leaf ({self.value})'\n",
    "    \n",
    "tree = Tree(0, Tree(1, Tree(3), Tree(4)),                             \n",
    "               Tree(2))\n",
    "\n",
    "list(tree) == [3, 4, 2]"
   ]
  },
  {
   "cell_type": "markdown",
   "metadata": {},
   "source": [
    "# Задание 4\n",
    "\n",
    "Реализовать простейший калькулятор математических выражений:\n",
    "- только целые числа\n",
    "- **+**, **\\-**, **\\***, **\\**\n",
    "- скобки\n",
    "\n",
    "**Можно использовать регулярные выражения**"
   ]
  },
  {
   "cell_type": "code",
   "execution_count": 27,
   "metadata": {},
   "outputs": [
    {
     "data": {
      "text/plain": [
       "'**'"
      ]
     },
     "execution_count": 27,
     "metadata": {},
     "output_type": "execute_result"
    }
   ],
   "source": [
    "import re\n",
    "myvar = \"90**323+-4*67\"\n",
    "\n",
    "iter = re.finditer('\\*\\*|[()*/+()-]', myvar)\n",
    "match = next(iter)\n",
    "match.group()"
   ]
  },
  {
   "cell_type": "code",
   "execution_count": 31,
   "metadata": {},
   "outputs": [
    {
     "data": {
      "text/plain": [
       "False"
      ]
     },
     "execution_count": 31,
     "metadata": {},
     "output_type": "execute_result"
    }
   ],
   "source": []
  },
  {
   "cell_type": "code",
   "execution_count": 85,
   "metadata": {},
   "outputs": [
    {
     "name": "stdout",
     "output_type": "stream",
     "text": [
      "True\n",
      "True\n",
      "True\n",
      "True\n",
      "True\n"
     ]
    }
   ],
   "source": [
    "from operator import add, mul, truediv, sub, pow\n",
    "import re\n",
    "\n",
    "operations = {\n",
    "    \"**\": (3, pow),\n",
    "    \"+\": (1, add),\n",
    "    \"-\": (1, sub),\n",
    "    \"*\": (2, mul),\n",
    "    \"/\": (2, truediv),\n",
    "}\n",
    "\n",
    "\n",
    "def concat_negative(buffer):\n",
    "    result = [buffer[0]]\n",
    "    i = 1\n",
    "    while i < len(buffer):\n",
    "        symbol = buffer[i]\n",
    "        if buffer[i - 1] in [\"**\", \"*\", \"/\", \"+\", \"-\", \"(\"] and symbol == \"-\":\n",
    "            assert (\n",
    "                buffer[i + 1].isnumeric() or \".\" in buffer[i + 1]\n",
    "            ), \"унарный минус не поддерживается, только отрицательные выражения\"\n",
    "            result.append(buffer[i] + buffer[i + 1])\n",
    "            i += 2\n",
    "        else:\n",
    "            result.append(buffer[i])\n",
    "            i += 1\n",
    "    return result\n",
    "\n",
    "\n",
    "def split_statement(string):\n",
    "    string = string.replace(\" \", \"\")\n",
    "    buffer = []\n",
    "    last_i = 0\n",
    "    for match in re.finditer(\"\\*\\*|[()*/+()-]\", string):\n",
    "        start, end = match.span()\n",
    "        if start > last_i:\n",
    "            buffer.append(string[last_i:start])\n",
    "        buffer.append(match.group())\n",
    "        last_i = end\n",
    "    if last_i < len(string):\n",
    "        buffer.append(string[last_i:])\n",
    "    result = concat_negative(buffer)\n",
    "    return result\n",
    "\n",
    "\n",
    "def to_polska(expr):\n",
    "    result = []\n",
    "    stack = []\n",
    "\n",
    "    for symbol in expr:\n",
    "        if symbol.isnumeric() or symbol[1:].isnumeric():  # если int\n",
    "            result.append(int(symbol))\n",
    "        elif \".\" in symbol:  # если float\n",
    "            result.append(float(symbol))\n",
    "        if symbol == \"(\":\n",
    "            stack.append(symbol)\n",
    "        if symbol == \")\":\n",
    "            while stack[-1] != \"(\":\n",
    "                result.append(stack.pop())\n",
    "            stack.pop()\n",
    "        if symbol in operations:\n",
    "            while (\n",
    "                stack\n",
    "                and stack[-1] != \"(\"\n",
    "                and operations[symbol][0] <= operations[stack[-1]][0]\n",
    "            ):\n",
    "                result.append(stack.pop())\n",
    "            stack.append(symbol)\n",
    "\n",
    "    while stack:\n",
    "        result.append(stack.pop())\n",
    "\n",
    "    return result\n",
    "\n",
    "\n",
    "def calc(string):\n",
    "    expr = split_statement(string)\n",
    "    # print(\"parsed:\", expr)\n",
    "    expr = to_polska(expr)\n",
    "    # print(\"polska:\", expr)\n",
    "    stack = []\n",
    "    for symbol in expr:\n",
    "        if symbol in operations:\n",
    "            right = stack.pop()\n",
    "            left = stack.pop()\n",
    "            stack.append(operations[symbol][1](left, right))\n",
    "        else:\n",
    "            stack.append(symbol)\n",
    "    return stack.pop()\n",
    "\n",
    "\n",
    "print(calc(\"5 * (2 + 4)\") == 5 * (2 + 4))\n",
    "# работает и с отрицательными числами!!!\n",
    "print(calc(\"3 * 8 + 2 * 3 - 10 / -2\") == 3 * 8 + 2 * 3 - 10 / -2)\n",
    "print(\n",
    "    calc(\"(2 + 3 * ((3 * 8 + 2 ** (3 - 10) / 2))) / 7 * (2 + 4)\")\n",
    "    == (2 + 3 * ((3 * 8 + 2 ** (3 - 10) / 2))) / 7 * (2 + 4)\n",
    ")\n",
    "print(\n",
    "    calc(\"(2 + 3 * ((3 * 8 + 2 ** (-3 - 10) / 2))) / -7 * (-2 + 4)\")\n",
    "    == (2 + 3 * ((3 * 8 + 2 ** (-3 - 10) / 2))) / -7 * (-2 + 4)\n",
    ")\n",
    "# и даже с плавающей точкой\n",
    "print(calc(\"2 * (15 - 3.5 * 4) - 2\") == 2 * (15 - 3.5 * 4) - 2)\n",
    "# c литералами типа 1e-3 будет сложнее\n"
   ]
  }
 ],
 "metadata": {
  "kernelspec": {
   "display_name": "Python 3",
   "language": "python",
   "name": "python3"
  },
  "language_info": {
   "codemirror_mode": {
    "name": "ipython",
    "version": 3
   },
   "file_extension": ".py",
   "mimetype": "text/x-python",
   "name": "python",
   "nbconvert_exporter": "python",
   "pygments_lexer": "ipython3",
   "version": "3.8.8"
  }
 },
 "nbformat": 4,
 "nbformat_minor": 4
}
