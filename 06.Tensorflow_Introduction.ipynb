{
 "cells": [
  {
   "cell_type": "markdown",
   "metadata": {},
   "source": [
    "## TF 1.x\n",
    "\n",
    "\n",
    "Статический граф высислений. Сначала строим граф, потом запускаем вычисления в рамках сессии."
   ]
  },
  {
   "cell_type": "code",
   "execution_count": 2,
   "metadata": {},
   "outputs": [
    {
     "name": "stdout",
     "output_type": "stream",
     "text": [
      "[array([[11.]], dtype=float32), [array([[1.],\n",
      "       [2.]], dtype=float32)]]\n",
      "[array([12.], dtype=float32)]\n"
     ]
    }
   ],
   "source": [
    "import tensorflow.compat.v1 as tf\n",
    "tf.disable_eager_execution()\n",
    "\n",
    "a = tf.constant([[1.0, 2.0]])\n",
    "x = tf.placeholder(dtype=tf.float32)\n",
    "c = tf.Variable([2.])\n",
    "\n",
    "val = tf.matmul(a, x) + c\n",
    "grad = tf.gradients(val, x)\n",
    "\n",
    "with tf.Session() as sess:\n",
    "    sess.run(tf.global_variables_initializer())\n",
    "    print(sess.run([val, grad], {x: [[3.], [3.]]}))\n",
    "    print(sess.run([c * 5 + 2]))\n"
   ]
  },
  {
   "cell_type": "markdown",
   "metadata": {},
   "source": [
    "## TF 2.x\n",
    "\n",
    "Динамический граф"
   ]
  },
  {
   "cell_type": "code",
   "execution_count": 1,
   "metadata": {},
   "outputs": [
    {
     "data": {
      "text/plain": [
       "<tf.Tensor: shape=(2, 2), dtype=float32, numpy=\n",
       "array([[ 2.,  5.],\n",
       "       [10., 17.]], dtype=float32)>"
      ]
     },
     "execution_count": 1,
     "metadata": {},
     "output_type": "execute_result"
    }
   ],
   "source": [
    "import tensorflow as tf\n",
    "\n",
    "x = tf.Variable([[1., 2.], [3., 4.]], dtype=tf.float32)\n",
    "z = tf.ones((2, 2))\n",
    "x ** 2 + z"
   ]
  },
  {
   "cell_type": "markdown",
   "metadata": {},
   "source": [
    "Использование GPU/TPU/CPU"
   ]
  },
  {
   "cell_type": "code",
   "execution_count": 3,
   "metadata": {},
   "outputs": [
    {
     "name": "stdout",
     "output_type": "stream",
     "text": [
      "tf.Tensor(\n",
      "[[3.]\n",
      " [3.]], shape=(2, 1), dtype=float32)\n"
     ]
    }
   ],
   "source": [
    "with tf.device(\"/cpu:0\"):        \n",
    "    x = tf.constant([[3.], [3.]])\n",
    "    print(x)    \n",
    "    \n",
    "# with tf.device(\"/gpu:0\"):\n",
    "#     x = tf.constant([[3.], [3.]])\n",
    "#     print(x)    "
   ]
  },
  {
   "cell_type": "markdown",
   "metadata": {},
   "source": [
    "Вычисление градиента"
   ]
  },
  {
   "cell_type": "code",
   "execution_count": 6,
   "metadata": {},
   "outputs": [
    {
     "name": "stdout",
     "output_type": "stream",
     "text": [
      "tf.Tensor(\n",
      "[[1.]\n",
      " [2.]], shape=(2, 1), dtype=float32)\n"
     ]
    }
   ],
   "source": [
    "\n",
    "with tf.GradientTape() as g:\n",
    "    a = tf.constant([[1.0, 2.0]])\n",
    "    x = tf.Variable([[3.], [3.]])\n",
    "    c = tf.constant([2.])\n",
    "        \n",
    "    val = tf.matmul(a, x) + c\n",
    "    print(g.gradient(val, x))"
   ]
  },
  {
   "cell_type": "code",
   "execution_count": null,
   "metadata": {},
   "outputs": [],
   "source": []
  }
 ],
 "metadata": {
  "kernelspec": {
   "display_name": "Python 3",
   "language": "python",
   "name": "python3"
  },
  "language_info": {
   "codemirror_mode": {
    "name": "ipython",
    "version": 3
   },
   "file_extension": ".py",
   "mimetype": "text/x-python",
   "name": "python",
   "nbconvert_exporter": "python",
   "pygments_lexer": "ipython3",
   "version": "3.6.9"
  }
 },
 "nbformat": 4,
 "nbformat_minor": 4
}
