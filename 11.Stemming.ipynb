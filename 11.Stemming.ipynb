{
 "cells": [
  {
   "cell_type": "markdown",
   "metadata": {},
   "source": [
    "## Pymorphy2\n",
    "Морфологический анализатор для русского языка (http://pymorphy2.readthedocs.org/)."
   ]
  },
  {
   "cell_type": "code",
   "execution_count": 1,
   "metadata": {
    "collapsed": true,
    "jupyter": {
     "outputs_hidden": true
    }
   },
   "outputs": [],
   "source": [
    "import pymorphy2\n",
    "morph = pymorphy2.MorphAnalyzer()"
   ]
  },
  {
   "cell_type": "markdown",
   "metadata": {},
   "source": [
    "Метод *morph.parse()* возвращает список объектов типа Parse с информацией о формах слова. Анализатор возвращает несколько вариантов разбора, так как на основе информации о том, как слово пишется  понять, какой разбор правильный, нельзя (нужен контекст)."
   ]
  },
  {
   "cell_type": "code",
   "execution_count": 2,
   "metadata": {
    "collapsed": true,
    "jupyter": {
     "outputs_hidden": true
    }
   },
   "outputs": [],
   "source": [
    "def pr(lst):\n",
    "    for x in lst:\n",
    "        print('{}\\t{}'.format(x.normal_form, x.tag))"
   ]
  },
  {
   "cell_type": "code",
   "execution_count": 3,
   "metadata": {},
   "outputs": [
    {
     "name": "stdout",
     "output_type": "stream",
     "text": [
      "стекло\tNOUN,inan,neut sing,nomn\n",
      "стекло\tNOUN,inan,neut sing,accs\n",
      "стечь\tVERB,perf,intr neut,sing,past,indc\n"
     ]
    }
   ],
   "source": [
    "pr(morph.parse('стекло'))"
   ]
  },
  {
   "cell_type": "markdown",
   "metadata": {},
   "source": [
    "В данном примере слово \"стекло\" может быть разобрано как глагол, как существительное в именительном падеже и сущиствительное в винительном падеже. \n",
    "Граммема - какая-то грамматическая характеристика слова (падеж, род и т.д.). Тэг - это набор граммем. В данном случае, для слова *стечь*:  \n",
    "**глагол**, **совершенный вид**, **средний род**, **единственное число**, **прошедшее время**.\n",
    "\n",
    "Полный список граммем: http://opencorpora.org/dict.php?act=gram"
   ]
  },
  {
   "cell_type": "markdown",
   "metadata": {},
   "source": [
    "Как может быть разобрано слово *машина*? Примеры предложений с каждым вариантом?"
   ]
  },
  {
   "cell_type": "code",
   "execution_count": 4,
   "metadata": {},
   "outputs": [
    {
     "name": "stdout",
     "output_type": "stream",
     "text": [
      "машина\tNOUN,inan,femn sing,nomn\n",
      "машин\tNOUN,anim,masc,Sgtm,Surn sing,gent\n",
      "машин\tNOUN,anim,masc,Sgtm,Surn sing,accs\n",
      "машин\tNOUN,anim,femn,Sgtm,Surn sing,nomn\n"
     ]
    }
   ],
   "source": [
    "pr(morph.parse('машина'))"
   ]
  },
  {
   "cell_type": "markdown",
   "metadata": {},
   "source": [
    "Слово *дань*? Примеры?"
   ]
  },
  {
   "cell_type": "code",
   "execution_count": 5,
   "metadata": {},
   "outputs": [
    {
     "name": "stdout",
     "output_type": "stream",
     "text": [
      "дань\tNOUN,inan,femn sing,nomn\n",
      "дань\tNOUN,inan,femn sing,accs\n",
      "даня\tNOUN,anim,masc,Name sing,voct,Infr\n",
      "даня\tNOUN,anim,masc,Name plur,gent\n",
      "даня\tNOUN,anim,masc,Name plur,accs\n"
     ]
    }
   ],
   "source": [
    "pr(morph.parse('дань'))"
   ]
  },
  {
   "cell_type": "markdown",
   "metadata": {},
   "source": [
    "В случае, если слово отсутствует в словаре, разбор производится эвристически:"
   ]
  },
  {
   "cell_type": "code",
   "execution_count": 6,
   "metadata": {},
   "outputs": [
    {
     "name": "stdout",
     "output_type": "stream",
     "text": [
      "бокренок\tNOUN,inan,masc sing,nomn\n",
      "бокренок\tNOUN,inan,masc sing,accs\n",
      "бокрёнок\tNOUN,anim,masc sing,nomn\n",
      "бокренка\tNOUN,inan,femn plur,gent\n",
      "бокренок\tNOUN,inan,masc sing,nomn\n",
      "бокренок\tNOUN,inan,masc sing,accs\n"
     ]
    }
   ],
   "source": [
    "pr(morph.parse('бокренок'))"
   ]
  },
  {
   "cell_type": "code",
   "execution_count": 7,
   "metadata": {},
   "outputs": [
    {
     "name": "stdout",
     "output_type": "stream",
     "text": [
      "на\tPREP\n",
      "на\tPRCL\n",
      "на\tINTJ\n"
     ]
    }
   ],
   "source": [
    "pr(morph.parse('на'))"
   ]
  },
  {
   "cell_type": "code",
   "execution_count": 8,
   "metadata": {},
   "outputs": [
    {
     "name": "stdout",
     "output_type": "stream",
     "text": [
      "человек\tNOUN,anim,masc plur,nomn\n"
     ]
    }
   ],
   "source": [
    "pr(morph.parse('люди'))"
   ]
  },
  {
   "cell_type": "markdown",
   "metadata": {},
   "source": [
    "### MyStem\n",
    "https://api.yandex.ru/mystem/\n",
    "\n",
    "Можно загрузить только в виде исполняемого файла, pymystem3 - обертка. Формально при разборе может учитывать контекст. "
   ]
  },
  {
   "cell_type": "code",
   "execution_count": 1,
   "metadata": {},
   "outputs": [],
   "source": [
    "from pymystem3 import Mystem\n",
    "mystem = Mystem()"
   ]
  },
  {
   "cell_type": "code",
   "execution_count": 10,
   "metadata": {},
   "outputs": [
    {
     "data": {
      "text/plain": [
       "[{'analysis': [{'gr': 'S,жен,неод=им,ед', 'lex': 'машина'}], 'text': 'машина'},\n",
       " {'text': '\\n'}]"
      ]
     },
     "execution_count": 10,
     "metadata": {},
     "output_type": "execute_result"
    }
   ],
   "source": [
    "mystem.analyze('машина')"
   ]
  },
  {
   "cell_type": "code",
   "execution_count": 11,
   "metadata": {},
   "outputs": [
    {
     "data": {
      "text/plain": [
       "[{'analysis': [{'gr': 'V,несов,пе=инф', 'lex': 'ловить'}], 'text': 'ловить'},\n",
       " {'text': ' '},\n",
       " {'analysis': [{'gr': 'S,муж,неод=твор,мн', 'lex': 'глаз'}],\n",
       "  'text': 'глазами'},\n",
       " {'text': '\\n'}]"
      ]
     },
     "execution_count": 11,
     "metadata": {},
     "output_type": "execute_result"
    }
   ],
   "source": [
    "mystem.analyze('ловить глазами')"
   ]
  },
  {
   "cell_type": "code",
   "execution_count": 12,
   "metadata": {},
   "outputs": [
    {
     "data": {
      "text/plain": [
       "[{'analysis': [{'gr': 'APRO=(им,мн|вин,ед,сред|им,ед,сред|вин,мн,неод)',\n",
       "    'lex': 'весь'}],\n",
       "  'text': 'Всё'},\n",
       " {'text': ' '},\n",
       " {'analysis': [{'gr': 'SPRO,ед,сред,неод=(вин|им)', 'lex': 'это'}],\n",
       "  'text': 'это'},\n",
       " {'text': ' '},\n",
       " {'analysis': [{'gr': 'S,сред,неод=(вин,ед|им,ед)', 'lex': 'стекло'}],\n",
       "  'text': 'стекло'},\n",
       " {'text': ' '},\n",
       " {'analysis': [{'gr': 'PR=', 'lex': 'на'}], 'text': 'на'},\n",
       " {'text': ' '},\n",
       " {'analysis': [{'gr': 'S,жен,неод=вин,ед', 'lex': 'помойка'}],\n",
       "  'text': 'помойку'},\n",
       " {'text': '\\n'}]"
      ]
     },
     "execution_count": 12,
     "metadata": {},
     "output_type": "execute_result"
    }
   ],
   "source": [
    "mystem.analyze('Всё это стекло на помойку')"
   ]
  },
  {
   "cell_type": "markdown",
   "metadata": {},
   "source": [
    "### Snowball\n",
    "\n",
    "Стемминг - выделение основы. \n",
    "http://snowball.tartarus.org - стеммеры для разных языков. Будем использовать обертку из библиотеки NLTK."
   ]
  },
  {
   "cell_type": "code",
   "execution_count": 13,
   "metadata": {
    "collapsed": true,
    "jupyter": {
     "outputs_hidden": true
    }
   },
   "outputs": [],
   "source": [
    "from nltk.stem.snowball import RussianStemmer \n",
    "rs = RussianStemmer()"
   ]
  },
  {
   "cell_type": "code",
   "execution_count": 14,
   "metadata": {},
   "outputs": [
    {
     "data": {
      "text/plain": [
       "('бутявк', 'мук', 'стекл', 'машин', 'машин')"
      ]
     },
     "execution_count": 14,
     "metadata": {},
     "output_type": "execute_result"
    }
   ],
   "source": [
    "(rs.stem('бутявку'),\n",
    "rs.stem('муки'),\n",
    "rs.stem('стекло'),\n",
    "rs.stem('машина'),\n",
    "rs.stem('машину'))"
   ]
  },
  {
   "cell_type": "code",
   "execution_count": 15,
   "metadata": {},
   "outputs": [
    {
     "name": "stdout",
     "output_type": "stream",
     "text": [
      "['I like trains.', 'I like cakes.', 'Dr. House, how are you?', 'I like I.B.M.', '!']\n",
      "[\"The world's oldest football competition is the FA Cup, which was founded by C. W. Alcock and has been contested by English teams since 1872.\"]\n"
     ]
    }
   ],
   "source": [
    "from nltk.tokenize import sent_tokenize\n",
    "\n",
    "print(\n",
    "    sent_tokenize('I like trains. I like cakes. Dr. House, how are you? I like I.B.M.!'))\n",
    "print(\n",
    "    sent_tokenize('The world\\'s oldest football competition is the FA Cup, which was founded by C. W. Alcock and has been contested by English teams since 1872.'))"
   ]
  },
  {
   "cell_type": "markdown",
   "metadata": {},
   "source": [
    "### Полезные ссылки:\n",
    "1. http://lucene.apache.org/\n",
    "2. http://nltk.org/\n",
    "3. http://snowball.tartarus.org/\n",
    "4. http://opennlp.apache.org/    \n",
    "5. http://nlp.stanford.edu/software/\n",
    "6. http://terrier.org"
   ]
  },
  {
   "cell_type": "code",
   "execution_count": null,
   "metadata": {
    "collapsed": true,
    "jupyter": {
     "outputs_hidden": true
    }
   },
   "outputs": [],
   "source": []
  }
 ],
 "metadata": {
  "kernelspec": {
   "display_name": "Python 3",
   "language": "python",
   "name": "python3"
  },
  "language_info": {
   "codemirror_mode": {
    "name": "ipython",
    "version": 3
   },
   "file_extension": ".py",
   "mimetype": "text/x-python",
   "name": "python",
   "nbconvert_exporter": "python",
   "pygments_lexer": "ipython3",
   "version": "3.6.9"
  }
 },
 "nbformat": 4,
 "nbformat_minor": 4
}
