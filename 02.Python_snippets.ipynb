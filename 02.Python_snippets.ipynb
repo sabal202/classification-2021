{
 "cells": [
  {
   "cell_type": "markdown",
   "metadata": {},
   "source": [
    "# Python Code Snippets"
   ]
  },
  {
   "cell_type": "markdown",
   "metadata": {},
   "source": [
    "## Декораторы\n",
    "\n",
    "В декораторе лучше использовать \n",
    "```python  \n",
    "@functools.wraps ```\n",
    "это позволяет сохранять метаинформацию для декорируемой функции"
   ]
  },
  {
   "cell_type": "code",
   "execution_count": 1,
   "metadata": {},
   "outputs": [
    {
     "data": {
      "text/plain": [
       "42"
      ]
     },
     "execution_count": 1,
     "metadata": {},
     "output_type": "execute_result"
    }
   ],
   "source": [
    "import functools\n",
    "\n",
    "def plus_one(old_func):\n",
    "    @functools.wraps(old_func)\n",
    "    def wrapper(*args, **kwargs):  \n",
    "        return old_func(*args, **kwargs) + 1\n",
    "    return wrapper\n",
    "\n",
    "@plus_one\n",
    "def my_func():\n",
    "    \"\"\"Docstring\"\"\"    \n",
    "    return 41\n",
    "\n",
    "my_func()"
   ]
  },
  {
   "cell_type": "code",
   "execution_count": 2,
   "metadata": {},
   "outputs": [
    {
     "name": "stdout",
     "output_type": "stream",
     "text": [
      "my_func Docstring\n"
     ]
    }
   ],
   "source": [
    "print(my_func.__name__, my_func.__doc__)"
   ]
  },
  {
   "cell_type": "markdown",
   "metadata": {},
   "source": [
    "## Контекстные менеджеры"
   ]
  },
  {
   "cell_type": "markdown",
   "metadata": {},
   "source": [
    "Можно написать свой класс для использования в операторе `if`"
   ]
  },
  {
   "cell_type": "code",
   "execution_count": 3,
   "metadata": {},
   "outputs": [
    {
     "name": "stdout",
     "output_type": "stream",
     "text": [
      "Enter\n",
      "Exit\n"
     ]
    }
   ],
   "source": [
    "\n",
    "class MyContextMng(object):\n",
    "    def __init__(self, s):\n",
    "        self.s = s\n",
    "        pass\n",
    "\n",
    "    def __enter__(self):   \n",
    "        print('Enter')\n",
    "        return self.s\n",
    "\n",
    "    def __exit__(self, exception_type, exception_val, trace):\n",
    "        print('Exit')\n",
    "        return True\n",
    "    \n",
    "    \n",
    "with MyContextMng('Hello') as f:\n",
    "    #actions\n",
    "    pass\n"
   ]
  },
  {
   "cell_type": "markdown",
   "metadata": {},
   "source": [
    "Этот код очень приблизительное преобразуется в следующее"
   ]
  },
  {
   "cell_type": "code",
   "execution_count": 4,
   "metadata": {},
   "outputs": [
    {
     "name": "stdout",
     "output_type": "stream",
     "text": [
      "Enter\n",
      "Exit\n"
     ]
    }
   ],
   "source": [
    "tmp = MyContextMng('Hello')\n",
    "f = tmp.__enter__()\n",
    "try:   \n",
    "    actions\n",
    "    pass\n",
    "except:\n",
    "    pass\n",
    "finally:\n",
    "    tmp.__exit__(None, None, None)"
   ]
  },
  {
   "cell_type": "markdown",
   "metadata": {},
   "source": [
    "Написание контекстных менеджеров можно упростить с помощью декоратора `@contextmanager` и генераторов"
   ]
  },
  {
   "cell_type": "code",
   "execution_count": 5,
   "metadata": {},
   "outputs": [
    {
     "name": "stdout",
     "output_type": "stream",
     "text": [
      "Enter\n",
      "Exit\n"
     ]
    }
   ],
   "source": [
    "from contextlib import contextmanager\n",
    "\n",
    "@contextmanager\n",
    "def my_context(s):\n",
    "    print('Enter')\n",
    "    yield s\n",
    "    print('Exit')\n",
    "    \n",
    "with my_context('Hello') as f:\n",
    "    #actions\n",
    "    pass    "
   ]
  },
  {
   "cell_type": "markdown",
   "metadata": {},
   "source": [
    "## Операции с файлами"
   ]
  },
  {
   "cell_type": "markdown",
   "metadata": {},
   "source": [
    "#### чтение файла"
   ]
  },
  {
   "cell_type": "code",
   "execution_count": 29,
   "metadata": {},
   "outputs": [
    {
     "data": {
      "text/plain": [
       "[2]"
      ]
     },
     "execution_count": 29,
     "metadata": {},
     "output_type": "execute_result"
    }
   ],
   "source": [
    "from collections import defaultdict\n",
    "\n",
    "d = defaultdict(lambda: [])\n",
    "d[1].append(2)\n",
    "d[1]"
   ]
  },
  {
   "cell_type": "code",
   "execution_count": 6,
   "metadata": {},
   "outputs": [
    {
     "name": "stdout",
     "output_type": "stream",
     "text": [
      "#,Комнат,Район города,Адрес,Этаж,Общ,Жил,Кух,М,Тел,Примечания,Цена\n",
      "252\n"
     ]
    }
   ],
   "source": [
    "with open('data/real_estate.csv', 'r', encoding='utf-8') as f:\n",
    "    print(f.readline().strip())\n",
    "    for c, line in enumerate(f):                        \n",
    "        pass\n",
    "        "
   ]
  },
  {
   "cell_type": "code",
   "execution_count": 7,
   "metadata": {},
   "outputs": [
    {
     "name": "stdout",
     "output_type": "stream",
     "text": [
      "b'#,\\xd0\\x9a\\xd0\\xbe\\xd0\\xbc\\xd0\\xbd\\xd0\\xb0\\xd1\\x82,\\xd0\\xa0\\xd0\\xb0\\xd0'\n",
      "1,1,Московский,Пулко\n"
     ]
    }
   ],
   "source": [
    "with open('data/real_estate.csv', 'rb') as f:\n",
    "    print(f.readline()[:20])\n",
    "    print(f.readline().decode('utf-8')[:20])"
   ]
  },
  {
   "cell_type": "markdown",
   "metadata": {},
   "source": [
    "#### список файлов в директории"
   ]
  },
  {
   "cell_type": "code",
   "execution_count": 8,
   "metadata": {},
   "outputs": [
    {
     "data": {
      "text/plain": [
       "['faces.npy',\n",
       " 'man.png',\n",
       " 'real_estate.csv',\n",
       " 'svm_example_circle.npz',\n",
       " 'svm_example_moons.npz',\n",
       " 'texts.zip',\n",
       " 'transport_log.zip',\n",
       " 'weather.csv',\n",
       " 'wiki.xml']"
      ]
     },
     "execution_count": 8,
     "metadata": {},
     "output_type": "execute_result"
    }
   ],
   "source": [
    "import os\n",
    "\n",
    "os.listdir('data/')"
   ]
  },
  {
   "cell_type": "code",
   "execution_count": 9,
   "metadata": {},
   "outputs": [
    {
     "data": {
      "text/plain": [
       "'data/texts.zip'"
      ]
     },
     "execution_count": 9,
     "metadata": {},
     "output_type": "execute_result"
    }
   ],
   "source": [
    "os.path.join('data', 'texts.zip')"
   ]
  },
  {
   "cell_type": "markdown",
   "metadata": {},
   "source": [
    "#### временные файлы"
   ]
  },
  {
   "cell_type": "code",
   "execution_count": 10,
   "metadata": {},
   "outputs": [
    {
     "name": "stdout",
     "output_type": "stream",
     "text": [
      "['Hello world!\\n']\n"
     ]
    }
   ],
   "source": [
    "import tempfile\n",
    "\n",
    "with tempfile.NamedTemporaryFile() as fn:\n",
    "    with open(fn.name, 'w', encoding='utf-8') as f:\n",
    "        f.write('Hello world!\\n')\n",
    "        \n",
    "    with open(fn.name, 'r', encoding='utf-8') as f:\n",
    "        print(f.readlines())"
   ]
  },
  {
   "cell_type": "markdown",
   "metadata": {},
   "source": [
    "#### архивы"
   ]
  },
  {
   "cell_type": "code",
   "execution_count": 11,
   "metadata": {},
   "outputs": [
    {
     "name": "stdout",
     "output_type": "stream",
     "text": [
      "0\t «Школа злословия» учит прикусить язык Сохранитс\n",
      "ют: приключенческая канва опиралась на отличное зн\n"
     ]
    }
   ],
   "source": [
    "import zipfile\n",
    "import io\n",
    "\n",
    "with zipfile.ZipFile('data/texts.zip', 'r') as zf:\n",
    "    with zf.open('texts.txt', 'r') as f:\n",
    "        f_unicode = io.TextIOWrapper(f, 'utf-8')\n",
    "        print(f_unicode.readline()[:50])\n",
    "        print(f.readline().decode('utf-8')[:50])"
   ]
  },
  {
   "cell_type": "markdown",
   "metadata": {},
   "source": [
    "## Коллекции и итераторы"
   ]
  },
  {
   "cell_type": "markdown",
   "metadata": {},
   "source": [
    "#### модуль [itertools](https://docs.python.org/3/library/itertools.html)"
   ]
  },
  {
   "cell_type": "code",
   "execution_count": 18,
   "metadata": {},
   "outputs": [
    {
     "data": {
      "text/plain": [
       "[('a', 1), ('b', 2), ('c', 3)]"
      ]
     },
     "execution_count": 18,
     "metadata": {},
     "output_type": "execute_result"
    }
   ],
   "source": [
    "list(zip(['a', 'b', 'c'], [1, 2, 3]))"
   ]
  },
  {
   "cell_type": "code",
   "execution_count": 17,
   "metadata": {},
   "outputs": [
    {
     "data": {
      "text/plain": [
       "[1, 2, 1, 2, 3, 3, 5, 6, 1, 2]"
      ]
     },
     "execution_count": 17,
     "metadata": {},
     "output_type": "execute_result"
    }
   ],
   "source": [
    "import itertools\n",
    "\n",
    "ch = itertools.chain(g(), [1, 2, 3], {3, 5, 6}, iter([1, 2]))\n",
    "list(ch)"
   ]
  },
  {
   "cell_type": "code",
   "execution_count": 13,
   "metadata": {},
   "outputs": [
    {
     "name": "stdout",
     "output_type": "stream",
     "text": [
      "True ['H']\n",
      "False ['e', 'l', 'l', 'o', ' ']\n",
      "True ['W']\n",
      "False ['o', 'r', 'l', 'd']\n"
     ]
    }
   ],
   "source": [
    "for k, v in itertools.groupby('Hello World', key=lambda x: x.isupper()):\n",
    "    print(k, list(v))"
   ]
  },
  {
   "cell_type": "code",
   "execution_count": 14,
   "metadata": {},
   "outputs": [
    {
     "data": {
      "text/plain": [
       "[('а', 'a'), ('б', 'b'), ('в', 'c')]"
      ]
     },
     "execution_count": 14,
     "metadata": {},
     "output_type": "execute_result"
    }
   ],
   "source": [
    "list(zip(['а', 'б', 'в'], ['a', 'b', 'c']))"
   ]
  },
  {
   "cell_type": "code",
   "execution_count": 15,
   "metadata": {},
   "outputs": [
    {
     "data": {
      "text/plain": [
       "[(0, 'a'), (1, 'b'), (2, 'c')]"
      ]
     },
     "execution_count": 15,
     "metadata": {},
     "output_type": "execute_result"
    }
   ],
   "source": [
    "list(enumerate(['a', 'b', 'c']))"
   ]
  },
  {
   "cell_type": "code",
   "execution_count": 16,
   "metadata": {},
   "outputs": [
    {
     "data": {
      "text/plain": [
       "{0: 'a', 1: 'b', 2: 'c'}"
      ]
     },
     "execution_count": 16,
     "metadata": {},
     "output_type": "execute_result"
    }
   ],
   "source": [
    "lst = ['a', 'b', 'c']\n",
    "dict(enumerate(lst))"
   ]
  },
  {
   "cell_type": "markdown",
   "metadata": {},
   "source": [
    "#### модуль [functools](https://docs.python.org/3/library/functools.html)"
   ]
  },
  {
   "cell_type": "code",
   "execution_count": 17,
   "metadata": {},
   "outputs": [
    {
     "data": {
      "text/plain": [
       "15"
      ]
     },
     "execution_count": 17,
     "metadata": {},
     "output_type": "execute_result"
    }
   ],
   "source": [
    "from functools import partial\n",
    "\n",
    "add = lambda x, y: x + y\n",
    "foo = partial(add, y=5)\n",
    "foo(10)"
   ]
  },
  {
   "cell_type": "code",
   "execution_count": 18,
   "metadata": {},
   "outputs": [
    {
     "name": "stdout",
     "output_type": "stream",
     "text": [
      "CPU times: user 1.98 ms, sys: 0 ns, total: 1.98 ms\n",
      "Wall time: 5 s\n",
      "CPU times: user 16 µs, sys: 0 ns, total: 16 µs\n",
      "Wall time: 26 µs\n"
     ]
    },
    {
     "data": {
      "text/plain": [
       "400"
      ]
     },
     "execution_count": 18,
     "metadata": {},
     "output_type": "execute_result"
    }
   ],
   "source": [
    "from functools import lru_cache\n",
    "from time import sleep\n",
    "\n",
    "@lru_cache(maxsize=5)\n",
    "def heavy_stateless_computations(param):\n",
    "    sleep(5)\n",
    "    return param ** 2\n",
    "\n",
    "%time heavy_stateless_computations(20)\n",
    "%time heavy_stateless_computations(20)"
   ]
  },
  {
   "cell_type": "markdown",
   "metadata": {},
   "source": [
    "#### модуль [operator](https://docs.python.org/3/library/operator.html)"
   ]
  },
  {
   "cell_type": "code",
   "execution_count": 19,
   "metadata": {},
   "outputs": [
    {
     "data": {
      "text/plain": [
       "10"
      ]
     },
     "execution_count": 19,
     "metadata": {},
     "output_type": "execute_result"
    }
   ],
   "source": [
    "from operator import add, mul\n",
    "\n",
    "{'+': add, '*': mul}['*'](2, 5)"
   ]
  },
  {
   "cell_type": "markdown",
   "metadata": {},
   "source": [
    "#### модуль [collections](https://docs.python.org/3/library/collections.html)"
   ]
  },
  {
   "cell_type": "code",
   "execution_count": 20,
   "metadata": {},
   "outputs": [
    {
     "data": {
      "text/plain": [
       "defaultdict(<function __main__.<lambda>>, {'word1': [1, 2], 'word2': [3]})"
      ]
     },
     "execution_count": 20,
     "metadata": {},
     "output_type": "execute_result"
    }
   ],
   "source": [
    "from collections import defaultdict\n",
    "\n",
    "d = defaultdict(lambda: []) # можно просто defaultdict(list)\n",
    "d['word1'].append(1)\n",
    "d['word1'].append(2)\n",
    "d['word2'].append(3)\n",
    "d"
   ]
  },
  {
   "cell_type": "code",
   "execution_count": 21,
   "metadata": {},
   "outputs": [
    {
     "data": {
      "text/plain": [
       "Counter({'word1': 6, 'word2': 2, 'word3': 4})"
      ]
     },
     "execution_count": 21,
     "metadata": {},
     "output_type": "execute_result"
    }
   ],
   "source": [
    "from collections import Counter\n",
    "\n",
    "c = Counter()\n",
    "c['word1'] += 1\n",
    "c['word2'] += 2\n",
    "c.update({'word1': 5, 'word3': 4})\n",
    "c"
   ]
  },
  {
   "cell_type": "code",
   "execution_count": 22,
   "metadata": {},
   "outputs": [
    {
     "data": {
      "text/plain": [
       "[('word1', 6), ('word3', 4)]"
      ]
     },
     "execution_count": 22,
     "metadata": {},
     "output_type": "execute_result"
    }
   ],
   "source": [
    "c.most_common(2)"
   ]
  },
  {
   "cell_type": "code",
   "execution_count": 23,
   "metadata": {},
   "outputs": [
    {
     "name": "stdout",
     "output_type": "stream",
     "text": [
      "[5, 4, 3, 2, 1] [5, 4, 3, 2, 1]\n"
     ]
    }
   ],
   "source": [
    "from collections import OrderedDict\n",
    "\n",
    "lst = [(5 - x, x) for x in range(5)]\n",
    "d = dict(lst)\n",
    "od = OrderedDict(lst)\n",
    "print(list(d.keys()), list(od.keys()))"
   ]
  },
  {
   "cell_type": "markdown",
   "metadata": {},
   "source": [
    "## Сериализация"
   ]
  },
  {
   "cell_type": "code",
   "execution_count": 30,
   "metadata": {},
   "outputs": [
    {
     "name": "stdout",
     "output_type": "stream",
     "text": [
      "{'hello': [1, 2, 3], 'world': [4, 5, 6]}\n",
      "{'hello': [1, 2, 3], 'world': [4, 5, 6]}\n"
     ]
    }
   ],
   "source": [
    "import tempfile\n",
    "import pickle\n",
    "import json\n",
    "\n",
    "obj = {'hello' : [1, 2, 3], 'world': [4, 5, 6]}\n",
    "\n",
    "with tempfile.NamedTemporaryFile() as fn:\n",
    "    with open(fn.name, 'wb') as f:\n",
    "        pickle.dump(obj, f)\n",
    "    print(pickle.load(open(fn.name, 'rb')))\n",
    "    \n",
    "with tempfile.NamedTemporaryFile() as fn:\n",
    "    with open(fn.name, 'w') as f:\n",
    "        json.dump(obj, f)\n",
    "    print(json.load(open(fn.name, 'r')))    "
   ]
  },
  {
   "cell_type": "code",
   "execution_count": null,
   "metadata": {},
   "outputs": [],
   "source": []
  }
 ],
 "metadata": {
  "kernelspec": {
   "display_name": "Python 3",
   "language": "python",
   "name": "python3"
  },
  "language_info": {
   "codemirror_mode": {
    "name": "ipython",
    "version": 3
   },
   "file_extension": ".py",
   "mimetype": "text/x-python",
   "name": "python",
   "nbconvert_exporter": "python",
   "pygments_lexer": "ipython3",
   "version": "3.6.9"
  }
 },
 "nbformat": 4,
 "nbformat_minor": 4
}
